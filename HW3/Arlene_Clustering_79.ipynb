{
 "cells": [
  {
   "cell_type": "markdown",
   "metadata": {},
   "source": [
    "# HW3 (Clustering)"
   ]
  },
  {
   "cell_type": "markdown",
   "metadata": {},
   "source": [
    "#### Netid : aadcosta\n",
    "#### Seating Pin : 79"
   ]
  },
  {
   "cell_type": "code",
   "execution_count": 1,
   "metadata": {},
   "outputs": [],
   "source": [
    "\n",
    "import pandas as pd\n",
    "from sklearn.preprocessing import StandardScaler\n",
    "from sklearn.neighbors import KNeighborsRegressor,KNeighborsClassifier\n",
    "from sklearn.cluster import KMeans\n",
    "import numpy as np\n",
    "import matplotlib.pyplot as plt\n",
    "from sklearn.model_selection import train_test_split\n",
    "import seaborn as sns"
   ]
  },
  {
   "cell_type": "markdown",
   "metadata": {},
   "source": [
    "Data load and data Preprocessing"
   ]
  },
  {
   "cell_type": "code",
   "execution_count": 2,
   "metadata": {},
   "outputs": [],
   "source": [
    "# Load your dataset (replace 'data.csv' with your actual data file)\n",
    "data = pd.read_csv('E:\\MS\\MS_studies\\Sem_2\\IntrotoML\\HW3\\\\71-80.csv')"
   ]
  },
  {
   "cell_type": "code",
   "execution_count": 3,
   "metadata": {},
   "outputs": [],
   "source": [
    "\n",
    "X_data = data.iloc[:, [3,4,5,6,7]]\n",
    "y = data.iloc[:, [8]]"
   ]
  },
  {
   "cell_type": "markdown",
   "metadata": {},
   "source": [
    "##### Part 1: Evaluation of number of components for Clustering"
   ]
  },
  {
   "cell_type": "code",
   "execution_count": 4,
   "metadata": {},
   "outputs": [],
   "source": [
    "# Split the data into a training set (80%) and a test set (20%)\n",
    "X_train, X_test, y_train, y_test = train_test_split(X_data, y, test_size=0.2,random_state=0)"
   ]
  },
  {
   "cell_type": "code",
   "execution_count": 5,
   "metadata": {},
   "outputs": [
    {
     "data": {
      "image/png": "[encoded data removed]",
      "text/plain": [
       "<Figure size 640x480 with 1 Axes>"
      ]
     },
     "metadata": {},
     "output_type": "display_data"
    }
   ],
   "source": [
    "# Convert y_train and y_test from pandas DataFrame to numpy array\n",
    "# y_train = y_train.to_numpy().ravel()\n",
    "# y_test = y_test.to_numpy().ravel()\n",
    "\n",
    "# Define a range of K values to evaluate\n",
    "k_values = range(1, 10)\n",
    "inertia_values = []\n",
    "\n",
    "for k in k_values:\n",
    "    kmeans = KMeans(n_clusters=k, random_state=0,n_init='auto' )\n",
    "    kmeans.fit(X_train)\n",
    "    inertia_values.append(kmeans.inertia_)\n",
    "\n",
    "# Plot the Elbow Method graph\n",
    "plt.plot(k_values, inertia_values, marker='o')\n",
    "plt.xlabel('Number of Clusters (K)')\n",
    "plt.ylabel('Inertia')\n",
    "plt.title('Elbow Method for Optimal K')\n",
    "plt.show()\n"
   ]
  },
  {
   "cell_type": "markdown",
   "metadata": {},
   "source": [
    "The \"inertia,\" which represents the sum of squared distances of data points to their assigned cluster centroids."
   ]
  },
  {
   "cell_type": "markdown",
   "metadata": {},
   "source": [
    "##### Part 2: Prediction for the 2022 citation numbers for the test set, using the average difference magnitude to evaluate them"
   ]
  },
  {
   "cell_type": "code",
   "execution_count": 6,
   "metadata": {},
   "outputs": [],
   "source": [
    "optimal_k = 4\n",
    "kmeans = KMeans(n_clusters=optimal_k, random_state=0,n_init='auto')\n",
    "kmeans.fit(X_train)\n",
    "\n",
    "# Assign clusters to the training data\n",
    "train_cluster_assignments = kmeans.predict(X_train)"
   ]
  },
  {
   "cell_type": "code",
   "execution_count": 7,
   "metadata": {},
   "outputs": [
    {
     "data": {
      "text/plain": [
       "array([3, 0, 0, 0, 0, 0, 0, 0, 0, 3, 0, 0, 0, 0, 0, 0, 1, 0, 2, 3])"
      ]
     },
     "execution_count": 7,
     "metadata": {},
     "output_type": "execute_result"
    }
   ],
   "source": [
    "train_cluster_assignments[:20]"
   ]
  },
  {
   "cell_type": "code",
   "execution_count": 8,
   "metadata": {},
   "outputs": [
    {
     "data": {
      "text/html": [
       "<div>\n",
       "<style scoped>\n",
       "    .dataframe tbody tr th:only-of-type {\n",
       "        vertical-align: middle;\n",
       "    }\n",
       "\n",
       "    .dataframe tbody tr th {\n",
       "        vertical-align: top;\n",
       "    }\n",
       "\n",
       "    .dataframe thead th {\n",
       "        text-align: right;\n",
       "    }\n",
       "</style>\n",
       "<table border=\"1\" class=\"dataframe\">\n",
       "  <thead>\n",
       "    <tr style=\"text-align: right;\">\n",
       "      <th></th>\n",
       "      <th>cit_2022</th>\n",
       "    </tr>\n",
       "  </thead>\n",
       "  <tbody>\n",
       "    <tr>\n",
       "      <th>43</th>\n",
       "      <td>202</td>\n",
       "    </tr>\n",
       "    <tr>\n",
       "      <th>62</th>\n",
       "      <td>267</td>\n",
       "    </tr>\n",
       "    <tr>\n",
       "      <th>3</th>\n",
       "      <td>81</td>\n",
       "    </tr>\n",
       "    <tr>\n",
       "      <th>71</th>\n",
       "      <td>228</td>\n",
       "    </tr>\n",
       "    <tr>\n",
       "      <th>45</th>\n",
       "      <td>85</td>\n",
       "    </tr>\n",
       "    <tr>\n",
       "      <th>48</th>\n",
       "      <td>446</td>\n",
       "    </tr>\n",
       "    <tr>\n",
       "      <th>6</th>\n",
       "      <td>98</td>\n",
       "    </tr>\n",
       "    <tr>\n",
       "      <th>99</th>\n",
       "      <td>156</td>\n",
       "    </tr>\n",
       "    <tr>\n",
       "      <th>82</th>\n",
       "      <td>107</td>\n",
       "    </tr>\n",
       "    <tr>\n",
       "      <th>76</th>\n",
       "      <td>345</td>\n",
       "    </tr>\n",
       "    <tr>\n",
       "      <th>60</th>\n",
       "      <td>155</td>\n",
       "    </tr>\n",
       "    <tr>\n",
       "      <th>80</th>\n",
       "      <td>268</td>\n",
       "    </tr>\n",
       "    <tr>\n",
       "      <th>90</th>\n",
       "      <td>173</td>\n",
       "    </tr>\n",
       "    <tr>\n",
       "      <th>68</th>\n",
       "      <td>338</td>\n",
       "    </tr>\n",
       "    <tr>\n",
       "      <th>51</th>\n",
       "      <td>163</td>\n",
       "    </tr>\n",
       "    <tr>\n",
       "      <th>27</th>\n",
       "      <td>129</td>\n",
       "    </tr>\n",
       "    <tr>\n",
       "      <th>18</th>\n",
       "      <td>2933</td>\n",
       "    </tr>\n",
       "    <tr>\n",
       "      <th>56</th>\n",
       "      <td>94</td>\n",
       "    </tr>\n",
       "    <tr>\n",
       "      <th>63</th>\n",
       "      <td>1056</td>\n",
       "    </tr>\n",
       "    <tr>\n",
       "      <th>74</th>\n",
       "      <td>392</td>\n",
       "    </tr>\n",
       "  </tbody>\n",
       "</table>\n",
       "</div>"
      ],
      "text/plain": [
       "    cit_2022\n",
       "43       202\n",
       "62       267\n",
       "3         81\n",
       "71       228\n",
       "45        85\n",
       "48       446\n",
       "6         98\n",
       "99       156\n",
       "82       107\n",
       "76       345\n",
       "60       155\n",
       "80       268\n",
       "90       173\n",
       "68       338\n",
       "51       163\n",
       "27       129\n",
       "18      2933\n",
       "56        94\n",
       "63      1056\n",
       "74       392"
      ]
     },
     "execution_count": 8,
     "metadata": {},
     "output_type": "execute_result"
    }
   ],
   "source": [
    "y_train.head(20)"
   ]
  },
  {
   "cell_type": "code",
   "execution_count": 9,
   "metadata": {},
   "outputs": [],
   "source": [
    "# Predict clusters for test data\n",
    "test_cluster_assignments = kmeans.predict(X_test)"
   ]
  },
  {
   "cell_type": "code",
   "execution_count": 10,
   "metadata": {},
   "outputs": [
    {
     "data": {
      "text/plain": [
       "array([0, 0, 3, 0, 0, 0, 0, 0, 0, 3, 0, 0, 0, 0, 0, 0, 0, 0, 2, 3])"
      ]
     },
     "execution_count": 10,
     "metadata": {},
     "output_type": "execute_result"
    }
   ],
   "source": [
    "test_cluster_assignments"
   ]
  },
  {
   "cell_type": "code",
   "execution_count": 11,
   "metadata": {},
   "outputs": [
    {
     "data": {
      "text/plain": [
       "80"
      ]
     },
     "execution_count": 11,
     "metadata": {},
     "output_type": "execute_result"
    }
   ],
   "source": [
    "len(kmeans.labels_)"
   ]
  },
  {
   "cell_type": "code",
   "execution_count": 12,
   "metadata": {},
   "outputs": [
    {
     "data": {
      "text/plain": [
       "array([[ 104.0862069 ,  120.36206897,  130.29310345,  145.06896552,\n",
       "         159.75862069],\n",
       "       [2567.        , 2640.33333333, 2584.33333333, 2706.66666667,\n",
       "        2578.66666667],\n",
       "       [ 911.        , 1025.66666667, 1197.        , 1351.16666667,\n",
       "        1454.        ],\n",
       "       [ 522.92307692,  546.53846154,  562.76923077,  577.46153846,\n",
       "         582.15384615]])"
      ]
     },
     "execution_count": 12,
     "metadata": {},
     "output_type": "execute_result"
    }
   ],
   "source": [
    "kmeans.cluster_centers_"
   ]
  },
  {
   "cell_type": "code",
   "execution_count": 13,
   "metadata": {},
   "outputs": [
    {
     "data": {
      "text/html": [
       "<div>\n",
       "<style scoped>\n",
       "    .dataframe tbody tr th:only-of-type {\n",
       "        vertical-align: middle;\n",
       "    }\n",
       "\n",
       "    .dataframe tbody tr th {\n",
       "        vertical-align: top;\n",
       "    }\n",
       "\n",
       "    .dataframe thead th {\n",
       "        text-align: right;\n",
       "    }\n",
       "</style>\n",
       "<table border=\"1\" class=\"dataframe\">\n",
       "  <thead>\n",
       "    <tr style=\"text-align: right;\">\n",
       "      <th></th>\n",
       "      <th>cit_2022</th>\n",
       "    </tr>\n",
       "  </thead>\n",
       "  <tbody>\n",
       "    <tr>\n",
       "      <th>26</th>\n",
       "      <td>163</td>\n",
       "    </tr>\n",
       "    <tr>\n",
       "      <th>86</th>\n",
       "      <td>3</td>\n",
       "    </tr>\n",
       "    <tr>\n",
       "      <th>2</th>\n",
       "      <td>613</td>\n",
       "    </tr>\n",
       "    <tr>\n",
       "      <th>55</th>\n",
       "      <td>164</td>\n",
       "    </tr>\n",
       "    <tr>\n",
       "      <th>75</th>\n",
       "      <td>62</td>\n",
       "    </tr>\n",
       "    <tr>\n",
       "      <th>93</th>\n",
       "      <td>39</td>\n",
       "    </tr>\n",
       "    <tr>\n",
       "      <th>16</th>\n",
       "      <td>221</td>\n",
       "    </tr>\n",
       "    <tr>\n",
       "      <th>73</th>\n",
       "      <td>256</td>\n",
       "    </tr>\n",
       "    <tr>\n",
       "      <th>54</th>\n",
       "      <td>88</td>\n",
       "    </tr>\n",
       "    <tr>\n",
       "      <th>95</th>\n",
       "      <td>333</td>\n",
       "    </tr>\n",
       "    <tr>\n",
       "      <th>53</th>\n",
       "      <td>683</td>\n",
       "    </tr>\n",
       "    <tr>\n",
       "      <th>92</th>\n",
       "      <td>103</td>\n",
       "    </tr>\n",
       "    <tr>\n",
       "      <th>78</th>\n",
       "      <td>668</td>\n",
       "    </tr>\n",
       "    <tr>\n",
       "      <th>13</th>\n",
       "      <td>27</td>\n",
       "    </tr>\n",
       "    <tr>\n",
       "      <th>7</th>\n",
       "      <td>328</td>\n",
       "    </tr>\n",
       "    <tr>\n",
       "      <th>30</th>\n",
       "      <td>115</td>\n",
       "    </tr>\n",
       "    <tr>\n",
       "      <th>22</th>\n",
       "      <td>43</td>\n",
       "    </tr>\n",
       "    <tr>\n",
       "      <th>24</th>\n",
       "      <td>280</td>\n",
       "    </tr>\n",
       "    <tr>\n",
       "      <th>33</th>\n",
       "      <td>861</td>\n",
       "    </tr>\n",
       "    <tr>\n",
       "      <th>8</th>\n",
       "      <td>312</td>\n",
       "    </tr>\n",
       "  </tbody>\n",
       "</table>\n",
       "</div>"
      ],
      "text/plain": [
       "    cit_2022\n",
       "26       163\n",
       "86         3\n",
       "2        613\n",
       "55       164\n",
       "75        62\n",
       "93        39\n",
       "16       221\n",
       "73       256\n",
       "54        88\n",
       "95       333\n",
       "53       683\n",
       "92       103\n",
       "78       668\n",
       "13        27\n",
       "7        328\n",
       "30       115\n",
       "22        43\n",
       "24       280\n",
       "33       861\n",
       "8        312"
      ]
     },
     "execution_count": 13,
     "metadata": {},
     "output_type": "execute_result"
    }
   ],
   "source": [
    "y_test"
   ]
  },
  {
   "cell_type": "code",
   "execution_count": 30,
   "metadata": {},
   "outputs": [],
   "source": [
    "predictions_neighbor = []\n",
    "predictions_centroid = []\n",
    "predictions_average = []\n",
    "predictions_centroid_test = []\n",
    "# Step 4: Calculate Predictions\n",
    "for i in range(len(X_test)):\n",
    "    test_cluster = test_cluster_assignments[i]\n",
    "    \n",
    "    # Extract data points from the same cluster in the training set\n",
    "    train_data_in_cluster = X_train[train_cluster_assignments == test_cluster]\n",
    "    y_data_in_cluster = y_train[train_cluster_assignments == test_cluster]\n",
    "    \n",
    "    # Calculate the nearest neighbor prediction\n",
    "    distances = np.linalg.norm(X_train - X_test.iloc[i], axis=1)\n",
    "    nearest_neighbor_index = np.argmin(distances)\n",
    "    nearest_neighbor_prediction = y_train.iloc[nearest_neighbor_index][0]\n",
    "    \n",
    "    # Calculate the centroid prediction for train data\n",
    "    cluster_centroid = kmeans.cluster_centers_[test_cluster]\n",
    "    \n",
    "    # Find the data point in the training set that is nearest to the cluster centroid\n",
    "    distances_to_centroid = np.linalg.norm(X_train - cluster_centroid, axis=1)\n",
    "    \n",
    "    nearest_to_centroid_index = np.argmin(distances_to_centroid)\n",
    "    \n",
    "    # Make the prediction for the 2022 citation number\n",
    "    centroid_prediction_train = y_train.iloc[nearest_to_centroid_index][0]\n",
    "\n",
    "    # Calculate the centroid prediction for test data\n",
    "    cluster_centroid = kmeans.cluster_centers_[test_cluster]\n",
    "    \n",
    "    # Find the data point in the test set that is nearest to the cluster centroid\n",
    "    distances_to_centroid_test = np.linalg.norm(X_test - cluster_centroid, axis=1)\n",
    "    nearest_to_centroid_index = np.argmin(distances_to_centroid_test)\n",
    "    \n",
    "    # Make the prediction for the 2022 citation number\n",
    "    centroid_prediction_test = y_test.iloc[nearest_to_centroid_index][0]\n",
    "    centroid_prediction = centroid_prediction_train\n",
    "\n",
    "    # Pick the nearest point\n",
    "    if centroid_prediction < centroid_prediction_test:\n",
    "        centroid_prediction_test = centroid_prediction_train\n",
    "    else:\n",
    "        centroid_prediction_test = centroid_prediction_test\n",
    "    \n",
    "    # Calculate the average prediction\n",
    "    average_prediction_distance = np.linalg.norm(y_train - y_data_in_cluster.mean(), axis=1)\n",
    "    #average_val = np.linalg.norm(y_data_in_cluster.mean(), axis=1)\n",
    "    average_index = np.argmin(average_prediction_distance)\n",
    "    average_prediction = y_train.iloc[average_index][0]\n",
    "\n",
    "    predictions_neighbor.append(nearest_neighbor_prediction)\n",
    "    predictions_centroid.append(centroid_prediction)\n",
    "    predictions_average.append(average_prediction)\n",
    "    predictions_centroid_test.append(centroid_prediction_test)\n"
   ]
  },
  {
   "cell_type": "code",
   "execution_count": 15,
   "metadata": {},
   "outputs": [
    {
     "data": {
      "text/plain": [
       "[103,\n",
       " 15,\n",
       " 746,\n",
       " 173,\n",
       " 67,\n",
       " 33,\n",
       " 173,\n",
       " 446,\n",
       " 65,\n",
       " 268,\n",
       " 479,\n",
       " 163,\n",
       " 479,\n",
       " 15,\n",
       " 374,\n",
       " 49,\n",
       " 33,\n",
       " 346,\n",
       " 986,\n",
       " 345]"
      ]
     },
     "execution_count": 15,
     "metadata": {},
     "output_type": "execute_result"
    }
   ],
   "source": [
    "predictions_neighbor"
   ]
  },
  {
   "cell_type": "code",
   "execution_count": 16,
   "metadata": {},
   "outputs": [
    {
     "data": {
      "text/plain": [
       "[173,\n",
       " 173,\n",
       " 638,\n",
       " 173,\n",
       " 173,\n",
       " 173,\n",
       " 173,\n",
       " 173,\n",
       " 173,\n",
       " 638,\n",
       " 173,\n",
       " 173,\n",
       " 173,\n",
       " 173,\n",
       " 173,\n",
       " 173,\n",
       " 173,\n",
       " 173,\n",
       " 1279,\n",
       " 638]"
      ]
     },
     "execution_count": 16,
     "metadata": {},
     "output_type": "execute_result"
    }
   ],
   "source": [
    "predictions_centroid"
   ]
  },
  {
   "cell_type": "code",
   "execution_count": 31,
   "metadata": {},
   "outputs": [
    {
     "data": {
      "text/plain": [
       "[174,\n",
       " 174,\n",
       " 638,\n",
       " 174,\n",
       " 174,\n",
       " 174,\n",
       " 174,\n",
       " 174,\n",
       " 174,\n",
       " 638,\n",
       " 174,\n",
       " 174,\n",
       " 174,\n",
       " 174,\n",
       " 174,\n",
       " 174,\n",
       " 174,\n",
       " 174,\n",
       " 1279,\n",
       " 638]"
      ]
     },
     "execution_count": 31,
     "metadata": {},
     "output_type": "execute_result"
    }
   ],
   "source": [
    "predictions_average"
   ]
  },
  {
   "cell_type": "code",
   "execution_count": 32,
   "metadata": {},
   "outputs": [],
   "source": [
    "y_test_values = y_test.values.flatten()\n",
    "# Step 5: Evaluate Predictions\n",
    "# Calculate the average difference magnitude for each type of prediction (1, 2, 3)\n",
    "differences_neighbor = np.abs(predictions_neighbor - y_test_values)\n",
    "differences_centroid = np.abs(predictions_centroid - y_test_values)\n",
    "differences_average = np.abs(predictions_average - y_test_values)\n",
    "differences_centroid_test = np.abs(predictions_centroid_test - y_test_values)"
   ]
  },
  {
   "cell_type": "code",
   "execution_count": 19,
   "metadata": {},
   "outputs": [
    {
     "data": {
      "text/plain": [
       "0.5333831037698458"
      ]
     },
     "execution_count": 19,
     "metadata": {},
     "output_type": "execute_result"
    }
   ],
   "source": [
    "1 - np.mean(np.abs(predictions_neighbor - y_test_values)/y_test_values)"
   ]
  },
  {
   "cell_type": "code",
   "execution_count": 43,
   "metadata": {},
   "outputs": [
    {
     "name": "stdout",
     "output_type": "stream",
     "text": [
      "Mean absolute Percentage Error: 46.66168962301542 \n"
     ]
    }
   ],
   "source": [
    "print(f\"Mean absolute Percentage Error: {np.mean(np.abs((predictions_neighbor - y_test_values)/y_test_values)) * 100} \")"
   ]
  },
  {
   "cell_type": "code",
   "execution_count": 41,
   "metadata": {},
   "outputs": [
    {
     "name": "stdout",
     "output_type": "stream",
     "text": [
      "Mean absolute Percentage Error: 389.8026989193447 \n"
     ]
    }
   ],
   "source": [
    "print(f\"Mean absolute Percentage Error: {np.mean(np.abs((predictions_centroid - y_test_values)/y_test_values)) * 100} \")"
   ]
  },
  {
   "cell_type": "code",
   "execution_count": 42,
   "metadata": {},
   "outputs": [
    {
     "name": "stdout",
     "output_type": "stream",
     "text": [
      "Mean absolute Percentage Error: 392.0996205101294 \n"
     ]
    }
   ],
   "source": [
    "print(f\"Mean absolute Percentage Error: {np.mean(np.abs((predictions_average - y_test_values)/y_test_values)) * 100} \")"
   ]
  },
  {
   "cell_type": "code",
   "execution_count": 25,
   "metadata": {},
   "outputs": [
    {
     "data": {
      "text/plain": [
       "68.1"
      ]
     },
     "execution_count": 25,
     "metadata": {},
     "output_type": "execute_result"
    }
   ],
   "source": [
    "np.mean(np.abs(predictions_neighbor - y_test_values))"
   ]
  },
  {
   "cell_type": "code",
   "execution_count": 27,
   "metadata": {},
   "outputs": [
    {
     "data": {
      "text/plain": [
       "(5, 204)"
      ]
     },
     "execution_count": 27,
     "metadata": {},
     "output_type": "execute_result"
    }
   ],
   "source": [
    "np.min(np.abs(predictions_neighbor - y_test_values)), np.max(np.abs(predictions_neighbor - y_test_values))"
   ]
  },
  {
   "cell_type": "code",
   "execution_count": 20,
   "metadata": {},
   "outputs": [
    {
     "name": "stdout",
     "output_type": "stream",
     "text": [
      "Average difference magnitude of test data points same as of nearest neighbour point from training set is 68.1\n"
     ]
    }
   ],
   "source": [
    "print(f\"Average difference magnitude of test data points same as of nearest neighbour point from training set is {np.mean(differences_neighbor)}\")"
   ]
  },
  {
   "cell_type": "code",
   "execution_count": 21,
   "metadata": {},
   "outputs": [
    {
     "name": "stdout",
     "output_type": "stream",
     "text": [
      "Average difference magnitude of test data points same as of the point near their cluster centroid  is 169.75\n"
     ]
    }
   ],
   "source": [
    "print(f\"Average difference magnitude of test data points same as of the point near their cluster centroid  is {np.mean(differences_centroid)}\")"
   ]
  },
  {
   "cell_type": "code",
   "execution_count": 33,
   "metadata": {},
   "outputs": [
    {
     "name": "stdout",
     "output_type": "stream",
     "text": [
      "Average difference magnitude of test data points same as of the average of all other points in the same cluster of training set is 169.95\n"
     ]
    }
   ],
   "source": [
    "print(f\"Average difference magnitude of test data points same as of the average of all other points in the same cluster of training set is {np.mean(differences_average)}\")"
   ]
  },
  {
   "cell_type": "code",
   "execution_count": 23,
   "metadata": {},
   "outputs": [
    {
     "data": {
      "text/plain": [
       "131.1"
      ]
     },
     "execution_count": 23,
     "metadata": {},
     "output_type": "execute_result"
    }
   ],
   "source": [
    "np.mean(differences_centroid_test)"
   ]
  }
 ],
 "metadata": {
  "kernelspec": {
   "display_name": "Python 3",
   "language": "python",
   "name": "python3"
  },
  "language_info": {
   "codemirror_mode": {
    "name": "ipython",
    "version": 3
   },
   "file_extension": ".py",
   "mimetype": "text/x-python",
   "name": "python",
   "nbconvert_exporter": "python",
   "pygments_lexer": "ipython3",
   "version": "3.9.10"
  },
  "orig_nbformat": 4
 },
 "nbformat": 4,
 "nbformat_minor": 2
}
