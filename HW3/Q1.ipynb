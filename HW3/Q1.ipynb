{
 "cells": [
  {
   "cell_type": "markdown",
   "metadata": {},
   "source": [
    "## Homework 3 - CIS 662 - Introduction to Machine Learning and Algorithms\n",
    "#### Name: Haravindan Jayasenan Jain (SUID: 986048352)"
   ]
  },
  {
   "cell_type": "markdown",
   "metadata": {},
   "source": [
    "#### Importing the libraries"
   ]
  },
  {
   "cell_type": "code",
   "execution_count": 1,
   "metadata": {},
   "outputs": [],
   "source": [
    "import numpy as np\n",
    "import pandas as pd\n",
    "import matplotlib.pyplot as plt\n",
    "from sklearn.cluster import KMeans\n",
    "from sklearn.model_selection import train_test_split"
   ]
  },
  {
   "cell_type": "markdown",
   "metadata": {},
   "source": [
    "#### Importing the dataset"
   ]
  },
  {
   "cell_type": "code",
   "execution_count": 2,
   "metadata": {},
   "outputs": [
    {
     "name": "stdout",
     "output_type": "stream",
     "text": [
      "    univ_rank first_initial last_initial  cit_2017  cit_2018  cit_2019  \\\n",
      "0           1             A            B       255       261       277   \n",
      "1           1             C            D       323       503       583   \n",
      "2           1             I            C      4088      4262      4721   \n",
      "3           1             A            A      1099      1010       851   \n",
      "4           1             P            A       422       804      1103   \n",
      "..        ...           ...          ...       ...       ...       ...   \n",
      "95         10             A            F       800       841       951   \n",
      "96         10             A            A       611       615       664   \n",
      "97         10             R            A      2060      3267      4410   \n",
      "98         10             S            A      1587      1986      2506   \n",
      "99         10             D            A       388       440       352   \n",
      "\n",
      "    cit_2020  cit_2021  cit_2022  h_index  i_10_index  \n",
      "0        288       371       401       19          23  \n",
      "1        718       750       898       26          45  \n",
      "2       5072      5768      6552       79         192  \n",
      "3        725       710       656       74         207  \n",
      "4       1349      1560      1743       30          44  \n",
      "..       ...       ...       ...      ...         ...  \n",
      "95       941      1064      1103       58         102  \n",
      "96       671       664        59      132         132  \n",
      "97      5532      6501      6662       61         130  \n",
      "98      2949      3268      3695       73         136  \n",
      "99       294       332       251       46          90  \n",
      "\n",
      "[100 rows x 11 columns]\n"
     ]
    }
   ],
   "source": [
    "data = pd.read_csv(\"1-10.csv\")\n",
    "print(data)"
   ]
  },
  {
   "cell_type": "markdown",
   "metadata": {},
   "source": [
    "#### Splitting the dataset into training set (80%) and test set (20%)"
   ]
  },
  {
   "cell_type": "code",
   "execution_count": 3,
   "metadata": {},
   "outputs": [],
   "source": [
    "train_data, test_data = train_test_split(data, test_size=0.2, random_state=42)"
   ]
  },
  {
   "cell_type": "markdown",
   "metadata": {},
   "source": [
    "#### Selecting the training features"
   ]
  },
  {
   "cell_type": "code",
   "execution_count": 4,
   "metadata": {},
   "outputs": [
    {
     "name": "stdout",
     "output_type": "stream",
     "text": [
      "[[   50   169   196   438   702]\n",
      " [    0     0    18    71   128]\n",
      " [  301   319   509   488   554]\n",
      " [  167   205   296   398   478]\n",
      " [  843   989  1223  1123  1115]\n",
      " [   29   113   299   429   558]\n",
      " [  202   286   427   433   390]\n",
      " [  611   615   664   671   664]\n",
      " [  280   279   520   914  1363]\n",
      " [  198   228   258   211   239]\n",
      " [   14    20    44    40    53]\n",
      " [  168   201   265   371   527]\n",
      " [    7    26    54    90    94]\n",
      " [  294   313   292   270   192]\n",
      " [  171   166   168   145   159]\n",
      " [  887  1270  2047  2591  2844]\n",
      " [  245   311   348   404   416]\n",
      " [  141   183   283   369   452]\n",
      " [ 2073  2439  3161  3817  4515]\n",
      " [  209   197   229   206   202]\n",
      " [    0     0    16   117   237]\n",
      " [  367   343   395   327   287]\n",
      " [  329   377   406   367   415]\n",
      " [  800   841   951   941  1064]\n",
      " [ 4375  6356  7916  8779 10021]\n",
      " [  839   900   870  1030  1273]\n",
      " [  425   587   791  1048  1280]\n",
      " [  706  1671  3166  5181  7540]\n",
      " [  303   321   346   440   491]\n",
      " [   26    26    48    57    87]\n",
      " [  398   545   809  1092  1721]\n",
      " [ 1099  1010   851   725   710]\n",
      " [ 2265  2775  3492  4718  5759]\n",
      " [   27    55   103   185   278]\n",
      " [  880   718   798   922   756]\n",
      " [ 3683  3654  3561  3279  3186]\n",
      " [ 1123  1219  1396  1456  1492]\n",
      " [  150   198   288   297   343]\n",
      " [  887  1131  1295  1435  1566]\n",
      " [  141   178   205   296   273]\n",
      " [  309   342   347   390   384]\n",
      " [  388   440   352   294   332]\n",
      " [  790   900  1036  1208  1277]\n",
      " [   18    26    43    47   107]\n",
      " [ 2255  2160  2045  1954  1841]\n",
      " [  280   472   700   999  1585]\n",
      " [   26    54    79   161   308]\n",
      " [  661   694   805   713   735]\n",
      " [   45    65    96    87   222]\n",
      " [ 2060  3267  4410  5532  6501]\n",
      " [  868   850   861   835   983]\n",
      " [   81    90   134   128   128]\n",
      " [  619   552   608   467   481]\n",
      " [  273   358   534   629   930]\n",
      " [ 1587  1986  2506  2949  3268]\n",
      " [   94   174   298   451   631]\n",
      " [ 1202  1587  1605  1914  2506]\n",
      " [ 1551  1631  1438  1528  1593]\n",
      " [ 1094   898   799   876   722]\n",
      " [  178   156   148   126   128]\n",
      " [  237   230   188   222   265]\n",
      " [   51   104   274   920  1979]\n",
      " [  666   807   800   750   850]\n",
      " [  706   951  1186  1263  1407]\n",
      " [  323   503   583   718   750]\n",
      " [  461   559   643   678   835]\n",
      " [   60    83   127   175   261]\n",
      " [ 4088  4262  4721  5072  5768]\n",
      " [   51    58    70   107   173]\n",
      " [   22    30    79   185   274]\n",
      " [ 4188  4600  4714  6021  4984]\n",
      " [  903   851   821   834   684]\n",
      " [   31    79   210   322   343]\n",
      " [  953  1227  1461  1589  1651]\n",
      " [   90   108   115    99    94]\n",
      " [  189   220   311   417   427]\n",
      " [  282   365   352   498   576]\n",
      " [ 1750  2204  2646  3493  4571]\n",
      " [ 1695  1561  1473  1459  1404]\n",
      " [ 2263  2586  2784  2696  2900]]\n"
     ]
    }
   ],
   "source": [
    "#University rank and all (2017-2021) citation numbers\n",
    "X_train = train_data.iloc[:,3:8].values\n",
    "print(X_train)"
   ]
  },
  {
   "cell_type": "markdown",
   "metadata": {},
   "source": [
    "#### Selecting the testing features "
   ]
  },
  {
   "cell_type": "code",
   "execution_count": 5,
   "metadata": {},
   "outputs": [
    {
     "name": "stdout",
     "output_type": "stream",
     "text": [
      "[[  133   165   220   210   246]\n",
      " [  921  1293  1913  2342  3113]\n",
      " [ 1832  1738  1734  1745  1779]\n",
      " [  285   329   298   329   379]\n",
      " [   93    66    85   130   127]\n",
      " [ 3989  8160 12623 17157 22422]\n",
      " [  283   356   468   650  1097]\n",
      " [   22    17    27    16    46]\n",
      " [  874   962  1097  1360  1692]\n",
      " [  255   261   277   288   371]\n",
      " [   90   137   171   171   180]\n",
      " [  856   942   921  1009  1007]\n",
      " [  110   118   124   139   182]\n",
      " [ 1532  1623  1696  1643  1844]\n",
      " [  462   579   608   725   654]\n",
      " [  422   804  1103  1349  1560]\n",
      " [  279   332   356   368   410]\n",
      " [  111   117   147   153   173]\n",
      " [ 2972  4832  5535  6529  7348]\n",
      " [    1     4    11    36    60]]\n"
     ]
    }
   ],
   "source": [
    "X_test = test_data.iloc[:,3:8].values\n",
    "print(X_test)"
   ]
  },
  {
   "cell_type": "markdown",
   "metadata": {},
   "source": [
    "#### Using the elbow method to find the optimal number of clusters"
   ]
  },
  {
   "cell_type": "code",
   "execution_count": 6,
   "metadata": {},
   "outputs": [
    {
     "name": "stderr",
     "output_type": "stream",
     "text": [
      "/opt/homebrew/lib/python3.11/site-packages/sklearn/cluster/_kmeans.py:1416: FutureWarning: The default value of `n_init` will change from 10 to 'auto' in 1.4. Set the value of `n_init` explicitly to suppress the warning\n",
      "  super()._check_params_vs_input(X, default_n_init=10)\n",
      "/opt/homebrew/lib/python3.11/site-packages/sklearn/cluster/_kmeans.py:1416: FutureWarning: The default value of `n_init` will change from 10 to 'auto' in 1.4. Set the value of `n_init` explicitly to suppress the warning\n",
      "  super()._check_params_vs_input(X, default_n_init=10)\n",
      "/opt/homebrew/lib/python3.11/site-packages/sklearn/cluster/_kmeans.py:1416: FutureWarning: The default value of `n_init` will change from 10 to 'auto' in 1.4. Set the value of `n_init` explicitly to suppress the warning\n",
      "  super()._check_params_vs_input(X, default_n_init=10)\n",
      "/opt/homebrew/lib/python3.11/site-packages/sklearn/cluster/_kmeans.py:1416: FutureWarning: The default value of `n_init` will change from 10 to 'auto' in 1.4. Set the value of `n_init` explicitly to suppress the warning\n",
      "  super()._check_params_vs_input(X, default_n_init=10)\n",
      "/opt/homebrew/lib/python3.11/site-packages/sklearn/cluster/_kmeans.py:1416: FutureWarning: The default value of `n_init` will change from 10 to 'auto' in 1.4. Set the value of `n_init` explicitly to suppress the warning\n",
      "  super()._check_params_vs_input(X, default_n_init=10)\n",
      "/opt/homebrew/lib/python3.11/site-packages/sklearn/cluster/_kmeans.py:1416: FutureWarning: The default value of `n_init` will change from 10 to 'auto' in 1.4. Set the value of `n_init` explicitly to suppress the warning\n",
      "  super()._check_params_vs_input(X, default_n_init=10)\n",
      "/opt/homebrew/lib/python3.11/site-packages/sklearn/cluster/_kmeans.py:1416: FutureWarning: The default value of `n_init` will change from 10 to 'auto' in 1.4. Set the value of `n_init` explicitly to suppress the warning\n",
      "  super()._check_params_vs_input(X, default_n_init=10)\n",
      "/opt/homebrew/lib/python3.11/site-packages/sklearn/cluster/_kmeans.py:1416: FutureWarning: The default value of `n_init` will change from 10 to 'auto' in 1.4. Set the value of `n_init` explicitly to suppress the warning\n",
      "  super()._check_params_vs_input(X, default_n_init=10)\n",
      "/opt/homebrew/lib/python3.11/site-packages/sklearn/cluster/_kmeans.py:1416: FutureWarning: The default value of `n_init` will change from 10 to 'auto' in 1.4. Set the value of `n_init` explicitly to suppress the warning\n",
      "  super()._check_params_vs_input(X, default_n_init=10)\n",
      "/opt/homebrew/lib/python3.11/site-packages/sklearn/cluster/_kmeans.py:1416: FutureWarning: The default value of `n_init` will change from 10 to 'auto' in 1.4. Set the value of `n_init` explicitly to suppress the warning\n",
      "  super()._check_params_vs_input(X, default_n_init=10)\n"
     ]
    },
    {
     "data": {
      "image/png": "[encoded data removed]",
      "text/plain": [
       "<Figure size 640x480 with 1 Axes>"
      ]
     },
     "metadata": {},
     "output_type": "display_data"
    }
   ],
   "source": [
    "wcss = []\n",
    "for i in range(1,11):\n",
    "    kmeans = KMeans(n_clusters = i, init = 'k-means++', random_state = 41)\n",
    "    kmeans.fit(X_train)\n",
    "    wcss.append(kmeans.inertia_)\n",
    "plt.plot(range(1,11), wcss)\n",
    "plt.title('The Elbow Method')\n",
    "plt.xlabel('Number of clusters')\n",
    "plt.ylabel('WCSS') #Within-cluster sum of squares\n",
    "plt.show()"
   ]
  },
  {
   "cell_type": "markdown",
   "metadata": {},
   "source": [
    "#### Training the K-Means model with the 2 clusters based on the plot(elbow point)"
   ]
  },
  {
   "cell_type": "code",
   "execution_count": 7,
   "metadata": {},
   "outputs": [
    {
     "name": "stderr",
     "output_type": "stream",
     "text": [
      "/opt/homebrew/lib/python3.11/site-packages/sklearn/cluster/_kmeans.py:1416: FutureWarning: The default value of `n_init` will change from 10 to 'auto' in 1.4. Set the value of `n_init` explicitly to suppress the warning\n",
      "  super()._check_params_vs_input(X, default_n_init=10)\n"
     ]
    },
    {
     "data": {
      "text/html": [
       "<style>#sk-container-id-1 {color: black;}#sk-container-id-1 pre{padding: 0;}#sk-container-id-1 div.sk-toggleable {background-color: white;}#sk-container-id-1 label.sk-toggleable__label {cursor: pointer;display: block;width: 100%;margin-bottom: 0;padding: 0.3em;box-sizing: border-box;text-align: center;}#sk-container-id-1 label.sk-toggleable__label-arrow:before {content: \"▸\";float: left;margin-right: 0.25em;color: #696969;}#sk-container-id-1 label.sk-toggleable__label-arrow:hover:before {color: black;}#sk-container-id-1 div.sk-estimator:hover label.sk-toggleable__label-arrow:before {color: black;}#sk-container-id-1 div.sk-toggleable__content {max-height: 0;max-width: 0;overflow: hidden;text-align: left;background-color: #f0f8ff;}#sk-container-id-1 div.sk-toggleable__content pre {margin: 0.2em;color: black;border-radius: 0.25em;background-color: #f0f8ff;}#sk-container-id-1 input.sk-toggleable__control:checked~div.sk-toggleable__content {max-height: 200px;max-width: 100%;overflow: auto;}#sk-container-id-1 input.sk-toggleable__control:checked~label.sk-toggleable__label-arrow:before {content: \"▾\";}#sk-container-id-1 div.sk-estimator input.sk-toggleable__control:checked~label.sk-toggleable__label {background-color: #d4ebff;}#sk-container-id-1 div.sk-label input.sk-toggleable__control:checked~label.sk-toggleable__label {background-color: #d4ebff;}#sk-container-id-1 input.sk-hidden--visually {border: 0;clip: rect(1px 1px 1px 1px);clip: rect(1px, 1px, 1px, 1px);height: 1px;margin: -1px;overflow: hidden;padding: 0;position: absolute;width: 1px;}#sk-container-id-1 div.sk-estimator {font-family: monospace;background-color: #f0f8ff;border: 1px dotted black;border-radius: 0.25em;box-sizing: border-box;margin-bottom: 0.5em;}#sk-container-id-1 div.sk-estimator:hover {background-color: #d4ebff;}#sk-container-id-1 div.sk-parallel-item::after {content: \"\";width: 100%;border-bottom: 1px solid gray;flex-grow: 1;}#sk-container-id-1 div.sk-label:hover label.sk-toggleable__label {background-color: #d4ebff;}#sk-container-id-1 div.sk-serial::before {content: \"\";position: absolute;border-left: 1px solid gray;box-sizing: border-box;top: 0;bottom: 0;left: 50%;z-index: 0;}#sk-container-id-1 div.sk-serial {display: flex;flex-direction: column;align-items: center;background-color: white;padding-right: 0.2em;padding-left: 0.2em;position: relative;}#sk-container-id-1 div.sk-item {position: relative;z-index: 1;}#sk-container-id-1 div.sk-parallel {display: flex;align-items: stretch;justify-content: center;background-color: white;position: relative;}#sk-container-id-1 div.sk-item::before, #sk-container-id-1 div.sk-parallel-item::before {content: \"\";position: absolute;border-left: 1px solid gray;box-sizing: border-box;top: 0;bottom: 0;left: 50%;z-index: -1;}#sk-container-id-1 div.sk-parallel-item {display: flex;flex-direction: column;z-index: 1;position: relative;background-color: white;}#sk-container-id-1 div.sk-parallel-item:first-child::after {align-self: flex-end;width: 50%;}#sk-container-id-1 div.sk-parallel-item:last-child::after {align-self: flex-start;width: 50%;}#sk-container-id-1 div.sk-parallel-item:only-child::after {width: 0;}#sk-container-id-1 div.sk-dashed-wrapped {border: 1px dashed gray;margin: 0 0.4em 0.5em 0.4em;box-sizing: border-box;padding-bottom: 0.4em;background-color: white;}#sk-container-id-1 div.sk-label label {font-family: monospace;font-weight: bold;display: inline-block;line-height: 1.2em;}#sk-container-id-1 div.sk-label-container {text-align: center;}#sk-container-id-1 div.sk-container {/* jupyter's `normalize.less` sets `[hidden] { display: none; }` but bootstrap.min.css set `[hidden] { display: none !important; }` so we also need the `!important` here to be able to override the default hidden behavior on the sphinx rendered scikit-learn.org. See: https://github.com/scikit-learn/scikit-learn/issues/21755 */display: inline-block !important;position: relative;}#sk-container-id-1 div.sk-text-repr-fallback {display: none;}</style><div id=\"sk-container-id-1\" class=\"sk-top-container\"><div class=\"sk-text-repr-fallback\"><pre>KMeans(n_clusters=2, random_state=42)</pre><b>In a Jupyter environment, please rerun this cell to show the HTML representation or trust the notebook. <br />On GitHub, the HTML representation is unable to render, please try loading this page with nbviewer.org.</b></div><div class=\"sk-container\" hidden><div class=\"sk-item\"><div class=\"sk-estimator sk-toggleable\"><input class=\"sk-toggleable__control sk-hidden--visually\" id=\"sk-estimator-id-1\" type=\"checkbox\" checked><label for=\"sk-estimator-id-1\" class=\"sk-toggleable__label sk-toggleable__label-arrow\">KMeans</label><div class=\"sk-toggleable__content\"><pre>KMeans(n_clusters=2, random_state=42)</pre></div></div></div></div></div>"
      ],
      "text/plain": [
       "KMeans(n_clusters=2, random_state=42)"
      ]
     },
     "execution_count": 7,
     "metadata": {},
     "output_type": "execute_result"
    }
   ],
   "source": [
    "kmeans = KMeans(n_clusters=2, init = 'k-means++', random_state=42)\n",
    "kmeans.fit(X_train)"
   ]
  },
  {
   "cell_type": "markdown",
   "metadata": {},
   "source": [
    "#### Creating the dependable variable vector(showcasing the cluster number) for the test data"
   ]
  },
  {
   "cell_type": "code",
   "execution_count": 8,
   "metadata": {},
   "outputs": [
    {
     "name": "stdout",
     "output_type": "stream",
     "text": [
      "[0 0 0 0 0 1 0 0 0 0 0 0 0 0 0 0 0 0 1 0]\n"
     ]
    }
   ],
   "source": [
    "y_kmeans_test = kmeans.predict(X_test)\n",
    "print(y_kmeans_test)"
   ]
  },
  {
   "cell_type": "markdown",
   "metadata": {},
   "source": [
    "#### Storing the 2022 citation values(actual)"
   ]
  },
  {
   "cell_type": "code",
   "execution_count": 9,
   "metadata": {},
   "outputs": [],
   "source": [
    "y_train_2022 = train_data.iloc[:,8].values\n",
    "y_test_2022 = test_data.iloc[:,8].values"
   ]
  },
  {
   "cell_type": "markdown",
   "metadata": {},
   "source": [
    "#### 1. Predicting 2022 citations using nearest neighbor"
   ]
  },
  {
   "cell_type": "code",
   "execution_count": 10,
   "metadata": {},
   "outputs": [
    {
     "name": "stdout",
     "output_type": "stream",
     "text": [
      "[324, 3055, 1752, 379, 140, 10870, 1079, 100, 1736, 440, 140, 1103, 140, 1752, 59, 1237, 379, 140, 6662, 100]\n",
      "[  220  3416  1763   392   130 26211  1754    50  1664   401   195  1145\n",
      "   176  1993   604  1743   365   180  7255    84]\n"
     ]
    }
   ],
   "source": [
    "# (1) Finding the nearest neighbor from the training set for each data point in the test set.\n",
    "nearest_neighbor_predictions = []\n",
    "for test_point in X_test:\n",
    "    distances = np.linalg.norm(X_train - test_point, axis=1)  # Calculating Euclidean distances\n",
    "    nearest_neighbor_index = np.argmin(distances)\n",
    "    nearest_neighbor_citation_2022 = y_train_2022[nearest_neighbor_index]  # 2022 citation number\n",
    "    nearest_neighbor_predictions.append(nearest_neighbor_citation_2022)\n",
    "print(nearest_neighbor_predictions)\n",
    "print(y_test_2022)"
   ]
  },
  {
   "cell_type": "markdown",
   "metadata": {},
   "source": [
    "#### 2. Predicting 2022 citations using the point nearest the cluster centroid"
   ]
  },
  {
   "cell_type": "code",
   "execution_count": 11,
   "metadata": {},
   "outputs": [
    {
     "name": "stdout",
     "output_type": "stream",
     "text": [
      "Predictions for 2022 Citation (Closest Training Point to Centroid): [616, 616, 616, 616, 616, 707, 616, 616, 616, 616, 616, 616, 616, 616, 616, 616, 616, 616, 707, 616]\n",
      "[  220  3416  1763   392   130 26211  1754    50  1664   401   195  1145\n",
      "   176  1993   604  1743   365   180  7255    84]\n"
     ]
    }
   ],
   "source": [
    "# Predicting the cluster labels for the test set\n",
    "cluster_labels = kmeans.predict(X_test)\n",
    "\n",
    "# Initializing a list to store predictions\n",
    "centroid_predictions = []\n",
    "\n",
    "# Iterating through each test point\n",
    "for i in range(len(X_test)):\n",
    "    test_point = X_test[i]\n",
    "    cluster_label = cluster_labels[i]\n",
    "\n",
    "    # Finding the indices of training points in the same cluster as the test point\n",
    "    same_cluster_indices = np.where(cluster_labels == cluster_label)[0]\n",
    "\n",
    "    # Calculating the centroid of the cluster using training points in the same cluster\n",
    "    cluster_data = X_train[same_cluster_indices]\n",
    "    cluster_centroid = np.mean(cluster_data, axis=0)\n",
    "\n",
    "    # Finding the index of the training data point closest to the cluster centroid\n",
    "    distances_to_centroid = np.linalg.norm(cluster_data - cluster_centroid, axis=1)\n",
    "    closest_point_index = same_cluster_indices[np.argmin(distances_to_centroid)]\n",
    "\n",
    "    # Using the closest training data point to predict the 2022 citation\n",
    "    centroid_prediction = y_train_2022[closest_point_index]  # 2022 citation number\n",
    "    centroid_predictions.append(centroid_prediction)\n",
    "\n",
    "# Printing the predictions for the 2022 citation\n",
    "print(\"Predictions for 2022 Citation (Closest Training Point to Centroid):\", centroid_predictions)\n",
    "print(y_test_2022)"
   ]
  },
  {
   "cell_type": "markdown",
   "metadata": {},
   "source": [
    "#### 3. Predicting 2022 citations using the point nearest the cluster centroid"
   ]
  },
  {
   "cell_type": "code",
   "execution_count": 12,
   "metadata": {},
   "outputs": [
    {
     "name": "stdout",
     "output_type": "stream",
     "text": [
      "Predictions for 2022 Citation (Closest Training Point to Average): [312, 312, 3055, 616, 616, 707, 616, 616, 616, 616, 616, 616, 616, 616, 616, 3055, 616, 616, 707, 616]\n",
      "[  220  3416  1763   392   130 26211  1754    50  1664   401   195  1145\n",
      "   176  1993   604  1743   365   180  7255    84]\n"
     ]
    }
   ],
   "source": [
    "# Predicting the cluster labels for the test set\n",
    "cluster_labels = kmeans.predict(X_test)\n",
    "\n",
    "# Initializing a list to store predictions\n",
    "average_predictions = []\n",
    "\n",
    "# Iterating through each test point\n",
    "for i in range(len(X_test)):\n",
    "    test_point = X_test[i]\n",
    "    cluster_label = cluster_labels[i]\n",
    "\n",
    "    # Finding the indices of training points in the same cluster as the test point\n",
    "    same_cluster_indices = np.where(cluster_labels == cluster_label)[0]\n",
    "\n",
    "    # Calculating the average of all other training data points in the same cluster\n",
    "    other_cluster_points = np.delete(X_train[same_cluster_indices], np.where(same_cluster_indices == i), axis=0)\n",
    "    average_point = np.mean(other_cluster_points, axis=0)\n",
    "\n",
    "    # Finding the training data point closest to the average_point using Euclidean distance\n",
    "    distances_to_average = np.linalg.norm(other_cluster_points - average_point, axis=1)\n",
    "    closest_point_index = same_cluster_indices[np.argmin(distances_to_average)]\n",
    "\n",
    "    # Using the closest training data point to predict the 2022 citation\n",
    "    average_prediction = y_train_2022[closest_point_index]  # 2022 citation number\n",
    "    average_predictions.append(average_prediction)\n",
    "\n",
    "# Printing the predictions for the 2022 citation\n",
    "print(\"Predictions for 2022 Citation (Closest Training Point to Average):\", average_predictions)\n",
    "print(y_test_2022)"
   ]
  },
  {
   "cell_type": "markdown",
   "metadata": {},
   "source": [
    "#### Predicting 2022 citations using average of all others from the training set in the same cluster. \n"
   ]
  },
  {
   "cell_type": "code",
   "execution_count": 13,
   "metadata": {},
   "outputs": [
    {
     "name": "stdout",
     "output_type": "stream",
     "text": [
      "                               Method  Average Difference Magnitude\n",
      "0                    Nearest Neighbor                        938.20\n",
      "1  Closest Training Point to Centroid                       2268.95\n",
      "2   Closest Training Point to Average                       2268.95\n"
     ]
    }
   ],
   "source": [
    "# Calculating the absolute difference magnitude between two lists of numbers\n",
    "def calculate_absolute_difference(test_values, predictions):\n",
    "    return np.abs(np.array(test_values) - np.array(predictions))\n",
    "\n",
    "# Method 1: Nearest Neighbor\n",
    "nearest_neighbor_absolute_diff = calculate_absolute_difference(y_test_2022, nearest_neighbor_predictions)\n",
    "\n",
    "# Method 2: Closest Training Point to Centroid\n",
    "centroid_absolute_diff = calculate_absolute_difference(y_test_2022, centroid_prediction)\n",
    "\n",
    "# Method 3: Closest Training Point to Average\n",
    "average_absolute_diff = calculate_absolute_difference(y_test_2022, average_prediction)\n",
    "\n",
    "# Creating a DataFrame to tabulate the results\n",
    "results = pd.DataFrame({\n",
    "    'Method': ['Nearest Neighbor', 'Closest Training Point to Centroid', 'Closest Training Point to Average'],\n",
    "    'Average Difference Magnitude': [nearest_neighbor_absolute_diff.mean(), centroid_absolute_diff.mean(), average_absolute_diff.mean()]\n",
    "})\n",
    "\n",
    "# Printing the results\n",
    "print(results)"
   ]
  }
 ],
 "metadata": {
  "kernelspec": {
   "display_name": "Python 3.11.5 64-bit",
   "language": "python",
   "name": "python3"
  },
  "language_info": {
   "codemirror_mode": {
    "name": "ipython",
    "version": 3
   },
   "file_extension": ".py",
   "mimetype": "text/x-python",
   "name": "python",
   "nbconvert_exporter": "python",
   "pygments_lexer": "ipython3",
   "version": "3.11.6"
  },
  "orig_nbformat": 4,
  "vscode": {
   "interpreter": {
    "hash": "b0fa6594d8f4cbf19f97940f81e996739fb7646882a419484c72d19e05852a7e"
   }
  }
 },
 "nbformat": 4,
 "nbformat_minor": 2
}
