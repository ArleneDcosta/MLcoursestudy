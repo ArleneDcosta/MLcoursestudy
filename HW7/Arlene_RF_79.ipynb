{
 "cells": [
  {
   "cell_type": "markdown",
   "metadata": {},
   "source": [
    "### HW7 (Random Forest Classifier)"
   ]
  },
  {
   "cell_type": "markdown",
   "metadata": {},
   "source": [
    "##### Netid: aadcosta\n",
    "##### Seating Pin : 79"
   ]
  },
  {
   "cell_type": "markdown",
   "metadata": {},
   "source": [
    "### Part 1: Random Forest Classifier with Original citations"
   ]
  },
  {
   "cell_type": "code",
   "execution_count": 1,
   "metadata": {},
   "outputs": [],
   "source": [
    "import pandas as pd\n",
    "import numpy as np\n",
    "import matplotlib.pyplot as plt\n",
    "from sklearn.model_selection import train_test_split, cross_val_score\n",
    "from sklearn.ensemble import RandomForestClassifier\n",
    "from sklearn.metrics import accuracy_score, classification_report"
   ]
  },
  {
   "cell_type": "markdown",
   "metadata": {},
   "source": [
    "##### Extract features and label for the data"
   ]
  },
  {
   "cell_type": "code",
   "execution_count": 2,
   "metadata": {},
   "outputs": [],
   "source": [
    "data = pd.read_csv('E:\\MS\\MS_studies\\Sem_2\\IntrotoML\\HW3\\\\71-80.csv')"
   ]
  },
  {
   "cell_type": "code",
   "execution_count": 3,
   "metadata": {},
   "outputs": [],
   "source": [
    "data = data.iloc[:, [3,4,5,6,7,8]]"
   ]
  },
  {
   "cell_type": "code",
   "execution_count": 4,
   "metadata": {},
   "outputs": [
    {
     "data": {
      "text/html": [
       "<div>\n",
       "<style scoped>\n",
       "    .dataframe tbody tr th:only-of-type {\n",
       "        vertical-align: middle;\n",
       "    }\n",
       "\n",
       "    .dataframe tbody tr th {\n",
       "        vertical-align: top;\n",
       "    }\n",
       "\n",
       "    .dataframe thead th {\n",
       "        text-align: right;\n",
       "    }\n",
       "</style>\n",
       "<table border=\"1\" class=\"dataframe\">\n",
       "  <thead>\n",
       "    <tr style=\"text-align: right;\">\n",
       "      <th></th>\n",
       "      <th>cit_2017</th>\n",
       "      <th>cit_2018</th>\n",
       "      <th>cit_2019</th>\n",
       "      <th>cit_2020</th>\n",
       "      <th>cit_2021</th>\n",
       "      <th>cit_2022</th>\n",
       "    </tr>\n",
       "  </thead>\n",
       "  <tbody>\n",
       "    <tr>\n",
       "      <th>0</th>\n",
       "      <td>104</td>\n",
       "      <td>99</td>\n",
       "      <td>104</td>\n",
       "      <td>90</td>\n",
       "      <td>70</td>\n",
       "      <td>65</td>\n",
       "    </tr>\n",
       "    <tr>\n",
       "      <th>1</th>\n",
       "      <td>64</td>\n",
       "      <td>75</td>\n",
       "      <td>63</td>\n",
       "      <td>47</td>\n",
       "      <td>59</td>\n",
       "      <td>47</td>\n",
       "    </tr>\n",
       "    <tr>\n",
       "      <th>2</th>\n",
       "      <td>840</td>\n",
       "      <td>699</td>\n",
       "      <td>668</td>\n",
       "      <td>576</td>\n",
       "      <td>631</td>\n",
       "      <td>613</td>\n",
       "    </tr>\n",
       "    <tr>\n",
       "      <th>3</th>\n",
       "      <td>43</td>\n",
       "      <td>57</td>\n",
       "      <td>80</td>\n",
       "      <td>92</td>\n",
       "      <td>81</td>\n",
       "      <td>81</td>\n",
       "    </tr>\n",
       "    <tr>\n",
       "      <th>4</th>\n",
       "      <td>8</td>\n",
       "      <td>60</td>\n",
       "      <td>31</td>\n",
       "      <td>102</td>\n",
       "      <td>134</td>\n",
       "      <td>202</td>\n",
       "    </tr>\n",
       "    <tr>\n",
       "      <th>...</th>\n",
       "      <td>...</td>\n",
       "      <td>...</td>\n",
       "      <td>...</td>\n",
       "      <td>...</td>\n",
       "      <td>...</td>\n",
       "      <td>...</td>\n",
       "    </tr>\n",
       "    <tr>\n",
       "      <th>95</th>\n",
       "      <td>442</td>\n",
       "      <td>443</td>\n",
       "      <td>404</td>\n",
       "      <td>355</td>\n",
       "      <td>385</td>\n",
       "      <td>333</td>\n",
       "    </tr>\n",
       "    <tr>\n",
       "      <th>96</th>\n",
       "      <td>1307</td>\n",
       "      <td>1557</td>\n",
       "      <td>1814</td>\n",
       "      <td>1958</td>\n",
       "      <td>1926</td>\n",
       "      <td>1827</td>\n",
       "    </tr>\n",
       "    <tr>\n",
       "      <th>97</th>\n",
       "      <td>493</td>\n",
       "      <td>520</td>\n",
       "      <td>450</td>\n",
       "      <td>474</td>\n",
       "      <td>412</td>\n",
       "      <td>338</td>\n",
       "    </tr>\n",
       "    <tr>\n",
       "      <th>98</th>\n",
       "      <td>37</td>\n",
       "      <td>30</td>\n",
       "      <td>51</td>\n",
       "      <td>53</td>\n",
       "      <td>67</td>\n",
       "      <td>53</td>\n",
       "    </tr>\n",
       "    <tr>\n",
       "      <th>99</th>\n",
       "      <td>0</td>\n",
       "      <td>2</td>\n",
       "      <td>10</td>\n",
       "      <td>34</td>\n",
       "      <td>103</td>\n",
       "      <td>156</td>\n",
       "    </tr>\n",
       "  </tbody>\n",
       "</table>\n",
       "<p>100 rows × 6 columns</p>\n",
       "</div>"
      ],
      "text/plain": [
       "    cit_2017  cit_2018  cit_2019  cit_2020  cit_2021  cit_2022\n",
       "0        104        99       104        90        70        65\n",
       "1         64        75        63        47        59        47\n",
       "2        840       699       668       576       631       613\n",
       "3         43        57        80        92        81        81\n",
       "4          8        60        31       102       134       202\n",
       "..       ...       ...       ...       ...       ...       ...\n",
       "95       442       443       404       355       385       333\n",
       "96      1307      1557      1814      1958      1926      1827\n",
       "97       493       520       450       474       412       338\n",
       "98        37        30        51        53        67        53\n",
       "99         0         2        10        34       103       156\n",
       "\n",
       "[100 rows x 6 columns]"
      ]
     },
     "execution_count": 4,
     "metadata": {},
     "output_type": "execute_result"
    }
   ],
   "source": [
    "data"
   ]
  },
  {
   "cell_type": "markdown",
   "metadata": {},
   "source": [
    "##### Calculate ratio between cit_2021 and cit_2022"
   ]
  },
  {
   "cell_type": "code",
   "execution_count": 5,
   "metadata": {},
   "outputs": [],
   "source": [
    "data[\"ratio_21_22\"] = round(data[\"cit_2022\"] / data[\"cit_2021\"],2)\n",
    "data.fillna(0, inplace=True)"
   ]
  },
  {
   "cell_type": "code",
   "execution_count": 6,
   "metadata": {},
   "outputs": [],
   "source": [
    "data[\"category\"] = pd.cut(data[\"ratio_21_22\"],bins=[-np.inf,1.05, 1.16, np.inf],labels=[\"Low\", \"Medium\", \"High\"])"
   ]
  },
  {
   "cell_type": "code",
   "execution_count": 7,
   "metadata": {},
   "outputs": [
    {
     "data": {
      "text/html": [
       "<div>\n",
       "<style scoped>\n",
       "    .dataframe tbody tr th:only-of-type {\n",
       "        vertical-align: middle;\n",
       "    }\n",
       "\n",
       "    .dataframe tbody tr th {\n",
       "        vertical-align: top;\n",
       "    }\n",
       "\n",
       "    .dataframe thead th {\n",
       "        text-align: right;\n",
       "    }\n",
       "</style>\n",
       "<table border=\"1\" class=\"dataframe\">\n",
       "  <thead>\n",
       "    <tr style=\"text-align: right;\">\n",
       "      <th></th>\n",
       "      <th>cit_2017</th>\n",
       "      <th>cit_2018</th>\n",
       "      <th>cit_2019</th>\n",
       "      <th>cit_2020</th>\n",
       "      <th>cit_2021</th>\n",
       "      <th>cit_2022</th>\n",
       "      <th>ratio_21_22</th>\n",
       "      <th>category</th>\n",
       "    </tr>\n",
       "  </thead>\n",
       "  <tbody>\n",
       "    <tr>\n",
       "      <th>0</th>\n",
       "      <td>104</td>\n",
       "      <td>99</td>\n",
       "      <td>104</td>\n",
       "      <td>90</td>\n",
       "      <td>70</td>\n",
       "      <td>65</td>\n",
       "      <td>0.93</td>\n",
       "      <td>Low</td>\n",
       "    </tr>\n",
       "    <tr>\n",
       "      <th>1</th>\n",
       "      <td>64</td>\n",
       "      <td>75</td>\n",
       "      <td>63</td>\n",
       "      <td>47</td>\n",
       "      <td>59</td>\n",
       "      <td>47</td>\n",
       "      <td>0.80</td>\n",
       "      <td>Low</td>\n",
       "    </tr>\n",
       "    <tr>\n",
       "      <th>2</th>\n",
       "      <td>840</td>\n",
       "      <td>699</td>\n",
       "      <td>668</td>\n",
       "      <td>576</td>\n",
       "      <td>631</td>\n",
       "      <td>613</td>\n",
       "      <td>0.97</td>\n",
       "      <td>Low</td>\n",
       "    </tr>\n",
       "    <tr>\n",
       "      <th>3</th>\n",
       "      <td>43</td>\n",
       "      <td>57</td>\n",
       "      <td>80</td>\n",
       "      <td>92</td>\n",
       "      <td>81</td>\n",
       "      <td>81</td>\n",
       "      <td>1.00</td>\n",
       "      <td>Low</td>\n",
       "    </tr>\n",
       "    <tr>\n",
       "      <th>4</th>\n",
       "      <td>8</td>\n",
       "      <td>60</td>\n",
       "      <td>31</td>\n",
       "      <td>102</td>\n",
       "      <td>134</td>\n",
       "      <td>202</td>\n",
       "      <td>1.51</td>\n",
       "      <td>High</td>\n",
       "    </tr>\n",
       "    <tr>\n",
       "      <th>...</th>\n",
       "      <td>...</td>\n",
       "      <td>...</td>\n",
       "      <td>...</td>\n",
       "      <td>...</td>\n",
       "      <td>...</td>\n",
       "      <td>...</td>\n",
       "      <td>...</td>\n",
       "      <td>...</td>\n",
       "    </tr>\n",
       "    <tr>\n",
       "      <th>95</th>\n",
       "      <td>442</td>\n",
       "      <td>443</td>\n",
       "      <td>404</td>\n",
       "      <td>355</td>\n",
       "      <td>385</td>\n",
       "      <td>333</td>\n",
       "      <td>0.86</td>\n",
       "      <td>Low</td>\n",
       "    </tr>\n",
       "    <tr>\n",
       "      <th>96</th>\n",
       "      <td>1307</td>\n",
       "      <td>1557</td>\n",
       "      <td>1814</td>\n",
       "      <td>1958</td>\n",
       "      <td>1926</td>\n",
       "      <td>1827</td>\n",
       "      <td>0.95</td>\n",
       "      <td>Low</td>\n",
       "    </tr>\n",
       "    <tr>\n",
       "      <th>97</th>\n",
       "      <td>493</td>\n",
       "      <td>520</td>\n",
       "      <td>450</td>\n",
       "      <td>474</td>\n",
       "      <td>412</td>\n",
       "      <td>338</td>\n",
       "      <td>0.82</td>\n",
       "      <td>Low</td>\n",
       "    </tr>\n",
       "    <tr>\n",
       "      <th>98</th>\n",
       "      <td>37</td>\n",
       "      <td>30</td>\n",
       "      <td>51</td>\n",
       "      <td>53</td>\n",
       "      <td>67</td>\n",
       "      <td>53</td>\n",
       "      <td>0.79</td>\n",
       "      <td>Low</td>\n",
       "    </tr>\n",
       "    <tr>\n",
       "      <th>99</th>\n",
       "      <td>0</td>\n",
       "      <td>2</td>\n",
       "      <td>10</td>\n",
       "      <td>34</td>\n",
       "      <td>103</td>\n",
       "      <td>156</td>\n",
       "      <td>1.51</td>\n",
       "      <td>High</td>\n",
       "    </tr>\n",
       "  </tbody>\n",
       "</table>\n",
       "<p>100 rows × 8 columns</p>\n",
       "</div>"
      ],
      "text/plain": [
       "    cit_2017  cit_2018  cit_2019  cit_2020  cit_2021  cit_2022  ratio_21_22  \\\n",
       "0        104        99       104        90        70        65         0.93   \n",
       "1         64        75        63        47        59        47         0.80   \n",
       "2        840       699       668       576       631       613         0.97   \n",
       "3         43        57        80        92        81        81         1.00   \n",
       "4          8        60        31       102       134       202         1.51   \n",
       "..       ...       ...       ...       ...       ...       ...          ...   \n",
       "95       442       443       404       355       385       333         0.86   \n",
       "96      1307      1557      1814      1958      1926      1827         0.95   \n",
       "97       493       520       450       474       412       338         0.82   \n",
       "98        37        30        51        53        67        53         0.79   \n",
       "99         0         2        10        34       103       156         1.51   \n",
       "\n",
       "   category  \n",
       "0       Low  \n",
       "1       Low  \n",
       "2       Low  \n",
       "3       Low  \n",
       "4      High  \n",
       "..      ...  \n",
       "95      Low  \n",
       "96      Low  \n",
       "97      Low  \n",
       "98      Low  \n",
       "99     High  \n",
       "\n",
       "[100 rows x 8 columns]"
      ]
     },
     "execution_count": 7,
     "metadata": {},
     "output_type": "execute_result"
    }
   ],
   "source": [
    "data"
   ]
  },
  {
   "cell_type": "markdown",
   "metadata": {},
   "source": [
    "##### Split the data into training and testing sets"
   ]
  },
  {
   "cell_type": "code",
   "execution_count": 8,
   "metadata": {},
   "outputs": [],
   "source": [
    "X = data.iloc[:, [0,1,2,3,4,5]]\n",
    "y = data['category']"
   ]
  },
  {
   "cell_type": "code",
   "execution_count": 9,
   "metadata": {},
   "outputs": [
    {
     "data": {
      "text/plain": [
       "0      Low\n",
       "1      Low\n",
       "2      Low\n",
       "3      Low\n",
       "4     High\n",
       "      ... \n",
       "95     Low\n",
       "96     Low\n",
       "97     Low\n",
       "98     Low\n",
       "99    High\n",
       "Name: category, Length: 100, dtype: category\n",
       "Categories (3, object): ['Low' < 'Medium' < 'High']"
      ]
     },
     "execution_count": 9,
     "metadata": {},
     "output_type": "execute_result"
    }
   ],
   "source": [
    "y"
   ]
  },
  {
   "cell_type": "markdown",
   "metadata": {},
   "source": [
    "##### Plot the effect of the number of bootstrap samples on model performance"
   ]
  },
  {
   "cell_type": "code",
   "execution_count": 10,
   "metadata": {},
   "outputs": [
    {
     "data": {
      "image/png": "[encoded data removed]",
      "text/plain": [
       "<Figure size 1000x600 with 1 Axes>"
      ]
     },
     "metadata": {},
     "output_type": "display_data"
    }
   ],
   "source": [
    "n_estimators_values = [10, 50, 100, 200, 300]\n",
    "mean_scores = []\n",
    "\n",
    "for n_estimators in n_estimators_values:\n",
    "    rf_classifier_varying_estimators = RandomForestClassifier(n_estimators=n_estimators, random_state=20)\n",
    "    scores = cross_val_score(rf_classifier_varying_estimators, X, y, cv=5, scoring='accuracy')\n",
    "    mean_scores.append(np.mean(scores))\n",
    "\n",
    "# Plot the results\n",
    "plt.figure(figsize=(10, 6))\n",
    "plt.plot(n_estimators_values, mean_scores, marker='o')\n",
    "plt.title('Effect of Number of Bootstrap Samples on Model Performance')\n",
    "plt.xlabel('Number of Bootstrap Samples (n_estimators)')\n",
    "plt.ylabel('Mean Cross-validated Accuracy')\n",
    "plt.grid(True)\n",
    "plt.show()"
   ]
  },
  {
   "cell_type": "code",
   "execution_count": 11,
   "metadata": {},
   "outputs": [
    {
     "data": {
      "text/plain": [
       "0      Low\n",
       "1      Low\n",
       "2      Low\n",
       "3      Low\n",
       "4     High\n",
       "      ... \n",
       "95     Low\n",
       "96     Low\n",
       "97     Low\n",
       "98     Low\n",
       "99    High\n",
       "Name: category, Length: 100, dtype: category\n",
       "Categories (3, object): ['Low' < 'Medium' < 'High']"
      ]
     },
     "execution_count": 11,
     "metadata": {},
     "output_type": "execute_result"
    }
   ],
   "source": [
    "y"
   ]
  },
  {
   "cell_type": "code",
   "execution_count": 12,
   "metadata": {},
   "outputs": [],
   "source": [
    "X_train, X_test, y_train, y_test = train_test_split(X, y, test_size=0.2, random_state=20)"
   ]
  },
  {
   "cell_type": "code",
   "execution_count": 13,
   "metadata": {},
   "outputs": [
    {
     "data": {
      "text/plain": [
       "37       Low\n",
       "51       Low\n",
       "35    Medium\n",
       "65    Medium\n",
       "31       Low\n",
       "       ...  \n",
       "28    Medium\n",
       "95       Low\n",
       "15      High\n",
       "90      High\n",
       "99      High\n",
       "Name: category, Length: 80, dtype: category\n",
       "Categories (3, object): ['Low' < 'Medium' < 'High']"
      ]
     },
     "execution_count": 13,
     "metadata": {},
     "output_type": "execute_result"
    }
   ],
   "source": [
    "y_train"
   ]
  },
  {
   "cell_type": "markdown",
   "metadata": {},
   "source": [
    "##### Train the Random Forest Classifer model"
   ]
  },
  {
   "cell_type": "code",
   "execution_count": 14,
   "metadata": {},
   "outputs": [],
   "source": [
    "n_estimators = 300\n",
    "\n",
    "# Initialize the Random Forest classifier\n",
    "rf_classifier = RandomForestClassifier(n_estimators=n_estimators,random_state=20)\n",
    "\n",
    "# Train the model\n",
    "rf_classifier.fit(X_train, y_train)\n",
    "\n",
    "# Make predictions on the test set\n",
    "y_pred = rf_classifier.predict(X_test)"
   ]
  },
  {
   "cell_type": "code",
   "execution_count": 15,
   "metadata": {},
   "outputs": [
    {
     "data": {
      "text/plain": [
       "array(['Low', 'Low', 'Low', 'Low', 'High', 'High', 'Low', 'Low', 'Medium',\n",
       "       'Low', 'Low', 'High', 'Low', 'Low', 'High', 'Low', 'Medium', 'Low',\n",
       "       'Low', 'Low'], dtype=object)"
      ]
     },
     "execution_count": 15,
     "metadata": {},
     "output_type": "execute_result"
    }
   ],
   "source": [
    "y_pred"
   ]
  },
  {
   "cell_type": "markdown",
   "metadata": {},
   "source": [
    "##### Evaluate the model"
   ]
  },
  {
   "cell_type": "code",
   "execution_count": 16,
   "metadata": {},
   "outputs": [
    {
     "name": "stdout",
     "output_type": "stream",
     "text": [
      "F1-Score: 0.75\n"
     ]
    }
   ],
   "source": [
    "from sklearn.metrics import f1_score\n",
    "f1 = f1_score(y_test, y_pred, average='weighted')  # You can choose 'micro', 'macro', or 'weighted'\n",
    "\n",
    "print(f\"F1-Score: {f1:.2f}\")"
   ]
  },
  {
   "cell_type": "code",
   "execution_count": 17,
   "metadata": {},
   "outputs": [
    {
     "name": "stdout",
     "output_type": "stream",
     "text": [
      "Accuracy: 0.75\n",
      "Classification Report:\n",
      "              precision    recall  f1-score   support\n",
      "\n",
      "        High       0.50      0.67      0.57         3\n",
      "         Low       0.86      0.86      0.86        14\n",
      "      Medium       0.50      0.33      0.40         3\n",
      "\n",
      "    accuracy                           0.75        20\n",
      "   macro avg       0.62      0.62      0.61        20\n",
      "weighted avg       0.75      0.75      0.75        20\n",
      "\n"
     ]
    }
   ],
   "source": [
    "accuracy = accuracy_score(y_test, y_pred)\n",
    "print(f'Accuracy: {accuracy}')\n",
    "print('Classification Report:')\n",
    "print(classification_report(y_test, y_pred))"
   ]
  },
  {
   "cell_type": "markdown",
   "metadata": {},
   "source": [
    "##### Display feature importance for the initial model"
   ]
  },
  {
   "cell_type": "code",
   "execution_count": 18,
   "metadata": {},
   "outputs": [
    {
     "data": {
      "image/png": "[encoded data removed]",
      "text/plain": [
       "<Figure size 1200x600 with 1 Axes>"
      ]
     },
     "metadata": {},
     "output_type": "display_data"
    }
   ],
   "source": [
    "feature_importances = rf_classifier.feature_importances_\n",
    "sorted_indices = np.argsort(feature_importances)[::-1]\n",
    "\n",
    "# Plot feature importance\n",
    "plt.figure(figsize=(12, 6))\n",
    "plt.bar(range(X.shape[1]), feature_importances[sorted_indices], align=\"center\")\n",
    "plt.xticks(range(X.shape[1]), X.columns[sorted_indices], rotation=90)\n",
    "plt.xlabel(\"Feature\")\n",
    "plt.ylabel(\"Feature Importance\")\n",
    "plt.title(\"Random Forest Classifier - Feature Importance (Original Features)\")\n",
    "plt.show()"
   ]
  },
  {
   "cell_type": "markdown",
   "metadata": {},
   "source": [
    "### Part 2: Random Forest Classifier with New features"
   ]
  },
  {
   "cell_type": "markdown",
   "metadata": {},
   "source": [
    "##### Define a function to Create the new features"
   ]
  },
  {
   "cell_type": "code",
   "execution_count": 19,
   "metadata": {},
   "outputs": [],
   "source": [
    "def calculate_new_features(df):\n",
    "    for year in range(2017, 2022):\n",
    "        next_year = year + 1\n",
    "        feature_name = f'newfeature_{next_year}_{year}'\n",
    "        data[feature_name] = (data[f'cit_{next_year}'] - data[f'cit_{year}']) / data[f'cit_{year}']\n",
    "    return df"
   ]
  },
  {
   "cell_type": "code",
   "execution_count": 20,
   "metadata": {},
   "outputs": [],
   "source": [
    "datanew = calculate_new_features(data)"
   ]
  },
  {
   "cell_type": "code",
   "execution_count": 21,
   "metadata": {},
   "outputs": [
    {
     "data": {
      "text/html": [
       "<div>\n",
       "<style scoped>\n",
       "    .dataframe tbody tr th:only-of-type {\n",
       "        vertical-align: middle;\n",
       "    }\n",
       "\n",
       "    .dataframe tbody tr th {\n",
       "        vertical-align: top;\n",
       "    }\n",
       "\n",
       "    .dataframe thead th {\n",
       "        text-align: right;\n",
       "    }\n",
       "</style>\n",
       "<table border=\"1\" class=\"dataframe\">\n",
       "  <thead>\n",
       "    <tr style=\"text-align: right;\">\n",
       "      <th></th>\n",
       "      <th>cit_2017</th>\n",
       "      <th>cit_2018</th>\n",
       "      <th>cit_2019</th>\n",
       "      <th>cit_2020</th>\n",
       "      <th>cit_2021</th>\n",
       "      <th>cit_2022</th>\n",
       "      <th>ratio_21_22</th>\n",
       "      <th>category</th>\n",
       "      <th>newfeature_2018_2017</th>\n",
       "      <th>newfeature_2019_2018</th>\n",
       "      <th>newfeature_2020_2019</th>\n",
       "      <th>newfeature_2021_2020</th>\n",
       "      <th>newfeature_2022_2021</th>\n",
       "    </tr>\n",
       "  </thead>\n",
       "  <tbody>\n",
       "    <tr>\n",
       "      <th>91</th>\n",
       "      <td>0</td>\n",
       "      <td>0</td>\n",
       "      <td>5</td>\n",
       "      <td>22</td>\n",
       "      <td>63</td>\n",
       "      <td>121</td>\n",
       "      <td>1.92</td>\n",
       "      <td>High</td>\n",
       "      <td>NaN</td>\n",
       "      <td>inf</td>\n",
       "      <td>3.4</td>\n",
       "      <td>1.863636</td>\n",
       "      <td>0.920635</td>\n",
       "    </tr>\n",
       "  </tbody>\n",
       "</table>\n",
       "</div>"
      ],
      "text/plain": [
       "    cit_2017  cit_2018  cit_2019  cit_2020  cit_2021  cit_2022  ratio_21_22  \\\n",
       "91         0         0         5        22        63       121         1.92   \n",
       "\n",
       "   category  newfeature_2018_2017  newfeature_2019_2018  newfeature_2020_2019  \\\n",
       "91     High                   NaN                   inf                   3.4   \n",
       "\n",
       "    newfeature_2021_2020  newfeature_2022_2021  \n",
       "91              1.863636              0.920635  "
      ]
     },
     "execution_count": 21,
     "metadata": {},
     "output_type": "execute_result"
    }
   ],
   "source": [
    "datanew.loc[[91], :]"
   ]
  },
  {
   "cell_type": "markdown",
   "metadata": {},
   "source": [
    "##### Capture the features"
   ]
  },
  {
   "cell_type": "code",
   "execution_count": 22,
   "metadata": {},
   "outputs": [],
   "source": [
    "X = datanew.iloc[:, [8,9,10,11,12]]"
   ]
  },
  {
   "cell_type": "markdown",
   "metadata": {},
   "source": [
    "##### Handling Missing and Nan values(Manual // Can be done via automation)"
   ]
  },
  {
   "cell_type": "code",
   "execution_count": 23,
   "metadata": {},
   "outputs": [
    {
     "name": "stderr",
     "output_type": "stream",
     "text": [
      "C:\\Users\\Arlene\\AppData\\Local\\Temp\\ipykernel_17976\\3668462771.py:6: SettingWithCopyWarning: \n",
      "A value is trying to be set on a copy of a slice from a DataFrame\n",
      "\n",
      "See the caveats in the documentation: https://pandas.pydata.org/pandas-docs/stable/user_guide/indexing.html#returning-a-view-versus-a-copy\n",
      "  X.loc[:, columns_with_inf] = X[columns_with_inf].copy().replace([np.inf, -np.inf], [8.5, -66])\n",
      "C:\\Users\\Arlene\\AppData\\Local\\Temp\\ipykernel_17976\\3668462771.py:7: SettingWithCopyWarning: \n",
      "A value is trying to be set on a copy of a slice from a DataFrame\n",
      "\n",
      "See the caveats in the documentation: https://pandas.pydata.org/pandas-docs/stable/user_guide/indexing.html#returning-a-view-versus-a-copy\n",
      "  X.fillna(0, inplace=True)\n"
     ]
    }
   ],
   "source": [
    "#X.loc[:, X.isin([np.inf, -np.inf])] = X.replace([np.inf, -np.inf], [8.5, -66])\n",
    "# Assuming X is a Pandas DataFrame\n",
    "columns_with_inf = X.columns[X.isin([np.inf, -np.inf]).any()]\n",
    "\n",
    "# Replace infinite values by creating a copy\n",
    "X.loc[:, columns_with_inf] = X[columns_with_inf].copy().replace([np.inf, -np.inf], [8.5, -66])\n",
    "X.fillna(0, inplace=True)"
   ]
  },
  {
   "cell_type": "code",
   "execution_count": 24,
   "metadata": {},
   "outputs": [
    {
     "data": {
      "text/html": [
       "<div>\n",
       "<style scoped>\n",
       "    .dataframe tbody tr th:only-of-type {\n",
       "        vertical-align: middle;\n",
       "    }\n",
       "\n",
       "    .dataframe tbody tr th {\n",
       "        vertical-align: top;\n",
       "    }\n",
       "\n",
       "    .dataframe thead th {\n",
       "        text-align: right;\n",
       "    }\n",
       "</style>\n",
       "<table border=\"1\" class=\"dataframe\">\n",
       "  <thead>\n",
       "    <tr style=\"text-align: right;\">\n",
       "      <th></th>\n",
       "      <th>newfeature_2018_2017</th>\n",
       "      <th>newfeature_2019_2018</th>\n",
       "      <th>newfeature_2020_2019</th>\n",
       "      <th>newfeature_2021_2020</th>\n",
       "      <th>newfeature_2022_2021</th>\n",
       "    </tr>\n",
       "  </thead>\n",
       "  <tbody>\n",
       "    <tr>\n",
       "      <th>0</th>\n",
       "      <td>-0.048077</td>\n",
       "      <td>0.050505</td>\n",
       "      <td>-0.134615</td>\n",
       "      <td>-0.222222</td>\n",
       "      <td>-0.071429</td>\n",
       "    </tr>\n",
       "    <tr>\n",
       "      <th>1</th>\n",
       "      <td>0.171875</td>\n",
       "      <td>-0.160000</td>\n",
       "      <td>-0.253968</td>\n",
       "      <td>0.255319</td>\n",
       "      <td>-0.203390</td>\n",
       "    </tr>\n",
       "    <tr>\n",
       "      <th>2</th>\n",
       "      <td>-0.167857</td>\n",
       "      <td>-0.044349</td>\n",
       "      <td>-0.137725</td>\n",
       "      <td>0.095486</td>\n",
       "      <td>-0.028526</td>\n",
       "    </tr>\n",
       "    <tr>\n",
       "      <th>3</th>\n",
       "      <td>0.325581</td>\n",
       "      <td>0.403509</td>\n",
       "      <td>0.150000</td>\n",
       "      <td>-0.119565</td>\n",
       "      <td>0.000000</td>\n",
       "    </tr>\n",
       "    <tr>\n",
       "      <th>4</th>\n",
       "      <td>6.500000</td>\n",
       "      <td>-0.483333</td>\n",
       "      <td>2.290323</td>\n",
       "      <td>0.313725</td>\n",
       "      <td>0.507463</td>\n",
       "    </tr>\n",
       "    <tr>\n",
       "      <th>...</th>\n",
       "      <td>...</td>\n",
       "      <td>...</td>\n",
       "      <td>...</td>\n",
       "      <td>...</td>\n",
       "      <td>...</td>\n",
       "    </tr>\n",
       "    <tr>\n",
       "      <th>95</th>\n",
       "      <td>0.002262</td>\n",
       "      <td>-0.088036</td>\n",
       "      <td>-0.121287</td>\n",
       "      <td>0.084507</td>\n",
       "      <td>-0.135065</td>\n",
       "    </tr>\n",
       "    <tr>\n",
       "      <th>96</th>\n",
       "      <td>0.191278</td>\n",
       "      <td>0.165061</td>\n",
       "      <td>0.079383</td>\n",
       "      <td>-0.016343</td>\n",
       "      <td>-0.051402</td>\n",
       "    </tr>\n",
       "    <tr>\n",
       "      <th>97</th>\n",
       "      <td>0.054767</td>\n",
       "      <td>-0.134615</td>\n",
       "      <td>0.053333</td>\n",
       "      <td>-0.130802</td>\n",
       "      <td>-0.179612</td>\n",
       "    </tr>\n",
       "    <tr>\n",
       "      <th>98</th>\n",
       "      <td>-0.189189</td>\n",
       "      <td>0.700000</td>\n",
       "      <td>0.039216</td>\n",
       "      <td>0.264151</td>\n",
       "      <td>-0.208955</td>\n",
       "    </tr>\n",
       "    <tr>\n",
       "      <th>99</th>\n",
       "      <td>8.500000</td>\n",
       "      <td>4.000000</td>\n",
       "      <td>2.400000</td>\n",
       "      <td>2.029412</td>\n",
       "      <td>0.514563</td>\n",
       "    </tr>\n",
       "  </tbody>\n",
       "</table>\n",
       "<p>100 rows × 5 columns</p>\n",
       "</div>"
      ],
      "text/plain": [
       "    newfeature_2018_2017  newfeature_2019_2018  newfeature_2020_2019  \\\n",
       "0              -0.048077              0.050505             -0.134615   \n",
       "1               0.171875             -0.160000             -0.253968   \n",
       "2              -0.167857             -0.044349             -0.137725   \n",
       "3               0.325581              0.403509              0.150000   \n",
       "4               6.500000             -0.483333              2.290323   \n",
       "..                   ...                   ...                   ...   \n",
       "95              0.002262             -0.088036             -0.121287   \n",
       "96              0.191278              0.165061              0.079383   \n",
       "97              0.054767             -0.134615              0.053333   \n",
       "98             -0.189189              0.700000              0.039216   \n",
       "99              8.500000              4.000000              2.400000   \n",
       "\n",
       "    newfeature_2021_2020  newfeature_2022_2021  \n",
       "0              -0.222222             -0.071429  \n",
       "1               0.255319             -0.203390  \n",
       "2               0.095486             -0.028526  \n",
       "3              -0.119565              0.000000  \n",
       "4               0.313725              0.507463  \n",
       "..                   ...                   ...  \n",
       "95              0.084507             -0.135065  \n",
       "96             -0.016343             -0.051402  \n",
       "97             -0.130802             -0.179612  \n",
       "98              0.264151             -0.208955  \n",
       "99              2.029412              0.514563  \n",
       "\n",
       "[100 rows x 5 columns]"
      ]
     },
     "execution_count": 24,
     "metadata": {},
     "output_type": "execute_result"
    }
   ],
   "source": [
    "X"
   ]
  },
  {
   "cell_type": "code",
   "execution_count": 25,
   "metadata": {},
   "outputs": [
    {
     "data": {
      "text/plain": [
       "0      Low\n",
       "1      Low\n",
       "2      Low\n",
       "3      Low\n",
       "4     High\n",
       "      ... \n",
       "95     Low\n",
       "96     Low\n",
       "97     Low\n",
       "98     Low\n",
       "99    High\n",
       "Name: category, Length: 100, dtype: category\n",
       "Categories (3, object): ['Low' < 'Medium' < 'High']"
      ]
     },
     "execution_count": 25,
     "metadata": {},
     "output_type": "execute_result"
    }
   ],
   "source": [
    "y"
   ]
  },
  {
   "cell_type": "code",
   "execution_count": 26,
   "metadata": {},
   "outputs": [],
   "source": [
    "nan_rows = X[X.isna().any(axis=1)]"
   ]
  },
  {
   "cell_type": "code",
   "execution_count": 27,
   "metadata": {},
   "outputs": [
    {
     "data": {
      "text/html": [
       "<div>\n",
       "<style scoped>\n",
       "    .dataframe tbody tr th:only-of-type {\n",
       "        vertical-align: middle;\n",
       "    }\n",
       "\n",
       "    .dataframe tbody tr th {\n",
       "        vertical-align: top;\n",
       "    }\n",
       "\n",
       "    .dataframe thead th {\n",
       "        text-align: right;\n",
       "    }\n",
       "</style>\n",
       "<table border=\"1\" class=\"dataframe\">\n",
       "  <thead>\n",
       "    <tr style=\"text-align: right;\">\n",
       "      <th></th>\n",
       "      <th>newfeature_2018_2017</th>\n",
       "      <th>newfeature_2019_2018</th>\n",
       "      <th>newfeature_2020_2019</th>\n",
       "      <th>newfeature_2021_2020</th>\n",
       "      <th>newfeature_2022_2021</th>\n",
       "    </tr>\n",
       "  </thead>\n",
       "  <tbody>\n",
       "  </tbody>\n",
       "</table>\n",
       "</div>"
      ],
      "text/plain": [
       "Empty DataFrame\n",
       "Columns: [newfeature_2018_2017, newfeature_2019_2018, newfeature_2020_2019, newfeature_2021_2020, newfeature_2022_2021]\n",
       "Index: []"
      ]
     },
     "execution_count": 27,
     "metadata": {},
     "output_type": "execute_result"
    }
   ],
   "source": [
    "nan_rows"
   ]
  },
  {
   "cell_type": "markdown",
   "metadata": {},
   "source": [
    "##### Plot the effect of the number of bootstrap samples on model performance"
   ]
  },
  {
   "cell_type": "code",
   "execution_count": 28,
   "metadata": {},
   "outputs": [
    {
     "data": {
      "image/png": "[encoded data removed]",
      "text/plain": [
       "<Figure size 1000x600 with 1 Axes>"
      ]
     },
     "metadata": {},
     "output_type": "display_data"
    }
   ],
   "source": [
    "n_estimators_values = [10, 50, 100, 200, 300]\n",
    "mean_scores = []\n",
    "\n",
    "for n_estimators in n_estimators_values:\n",
    "    rf_classifier_varying_estimators = RandomForestClassifier(n_estimators=n_estimators, random_state=20)\n",
    "    scores = cross_val_score(rf_classifier_varying_estimators, X, y, cv=5, scoring='accuracy')\n",
    "    mean_scores.append(np.mean(scores))\n",
    "\n",
    "# Plot the results\n",
    "plt.figure(figsize=(10, 6))\n",
    "plt.plot(n_estimators_values, mean_scores, marker='o')\n",
    "plt.title('Effect of Number of Bootstrap Samples on Model Performance')\n",
    "plt.xlabel('Number of Bootstrap Samples (n_estimators)')\n",
    "plt.ylabel('Mean Cross-validated Accuracy')\n",
    "plt.grid(True)\n",
    "plt.show()"
   ]
  },
  {
   "cell_type": "markdown",
   "metadata": {},
   "source": [
    "##### Split into train and test set"
   ]
  },
  {
   "cell_type": "code",
   "execution_count": 29,
   "metadata": {},
   "outputs": [],
   "source": [
    "X_train, X_test, y_train, y_test = train_test_split(X, y, test_size=0.2, random_state=20)"
   ]
  },
  {
   "cell_type": "markdown",
   "metadata": {},
   "source": [
    "##### Train the Random Forest Classifer model"
   ]
  },
  {
   "cell_type": "code",
   "execution_count": 30,
   "metadata": {},
   "outputs": [
    {
     "ename": "ValueError",
     "evalue": "The feature names should match those that were passed during fit.\nFeature names unseen at fit time:\n- newfeature_2018_2017\n- newfeature_2019_2018\n- newfeature_2020_2019\n- newfeature_2021_2020\n- newfeature_2022_2021\nFeature names seen at fit time, yet now missing:\n- cit_2017\n- cit_2018\n- cit_2019\n- cit_2020\n- cit_2021\n- ...\n",
     "output_type": "error",
     "traceback": [
      "\u001b[1;31m---------------------------------------------------------------------------\u001b[0m",
      "\u001b[1;31mValueError\u001b[0m                                Traceback (most recent call last)",
      "\u001b[1;32me:\\MS\\MS_studies\\Sem_2\\IntrotoML\\HW7\\Arlene_RF_79.ipynb Cell 47\u001b[0m line \u001b[0;36m<cell line: 10>\u001b[1;34m()\u001b[0m\n\u001b[0;32m      <a href='vscode-notebook-cell:/e%3A/MS/MS_studies/Sem_2/IntrotoML/HW7/Arlene_RF_79.ipynb#Y104sZmlsZQ%3D%3D?line=6'>7</a>\u001b[0m rf_classifier_new_features\u001b[39m.\u001b[39mfit(X_train, y_train)\n\u001b[0;32m      <a href='vscode-notebook-cell:/e%3A/MS/MS_studies/Sem_2/IntrotoML/HW7/Arlene_RF_79.ipynb#Y104sZmlsZQ%3D%3D?line=8'>9</a>\u001b[0m \u001b[39m# Make predictions on the test set\u001b[39;00m\n\u001b[1;32m---> <a href='vscode-notebook-cell:/e%3A/MS/MS_studies/Sem_2/IntrotoML/HW7/Arlene_RF_79.ipynb#Y104sZmlsZQ%3D%3D?line=9'>10</a>\u001b[0m y_pred \u001b[39m=\u001b[39m rf_classifier\u001b[39m.\u001b[39;49mpredict(X_test)\n",
      "File \u001b[1;32mc:\\Users\\Arlene\\AppData\\Local\\Programs\\Python\\Python39\\lib\\site-packages\\sklearn\\ensemble\\_forest.py:823\u001b[0m, in \u001b[0;36mForestClassifier.predict\u001b[1;34m(self, X)\u001b[0m\n\u001b[0;32m    802\u001b[0m \u001b[39mdef\u001b[39;00m \u001b[39mpredict\u001b[39m(\u001b[39mself\u001b[39m, X):\n\u001b[0;32m    803\u001b[0m     \u001b[39m\"\"\"\u001b[39;00m\n\u001b[0;32m    804\u001b[0m \u001b[39m    Predict class for X.\u001b[39;00m\n\u001b[0;32m    805\u001b[0m \n\u001b[1;32m   (...)\u001b[0m\n\u001b[0;32m    821\u001b[0m \u001b[39m        The predicted classes.\u001b[39;00m\n\u001b[0;32m    822\u001b[0m \u001b[39m    \"\"\"\u001b[39;00m\n\u001b[1;32m--> 823\u001b[0m     proba \u001b[39m=\u001b[39m \u001b[39mself\u001b[39;49m\u001b[39m.\u001b[39;49mpredict_proba(X)\n\u001b[0;32m    825\u001b[0m     \u001b[39mif\u001b[39;00m \u001b[39mself\u001b[39m\u001b[39m.\u001b[39mn_outputs_ \u001b[39m==\u001b[39m \u001b[39m1\u001b[39m:\n\u001b[0;32m    826\u001b[0m         \u001b[39mreturn\u001b[39;00m \u001b[39mself\u001b[39m\u001b[39m.\u001b[39mclasses_\u001b[39m.\u001b[39mtake(np\u001b[39m.\u001b[39margmax(proba, axis\u001b[39m=\u001b[39m\u001b[39m1\u001b[39m), axis\u001b[39m=\u001b[39m\u001b[39m0\u001b[39m)\n",
      "File \u001b[1;32mc:\\Users\\Arlene\\AppData\\Local\\Programs\\Python\\Python39\\lib\\site-packages\\sklearn\\ensemble\\_forest.py:865\u001b[0m, in \u001b[0;36mForestClassifier.predict_proba\u001b[1;34m(self, X)\u001b[0m\n\u001b[0;32m    863\u001b[0m check_is_fitted(\u001b[39mself\u001b[39m)\n\u001b[0;32m    864\u001b[0m \u001b[39m# Check data\u001b[39;00m\n\u001b[1;32m--> 865\u001b[0m X \u001b[39m=\u001b[39m \u001b[39mself\u001b[39;49m\u001b[39m.\u001b[39;49m_validate_X_predict(X)\n\u001b[0;32m    867\u001b[0m \u001b[39m# Assign chunk of trees to jobs\u001b[39;00m\n\u001b[0;32m    868\u001b[0m n_jobs, _, _ \u001b[39m=\u001b[39m _partition_estimators(\u001b[39mself\u001b[39m\u001b[39m.\u001b[39mn_estimators, \u001b[39mself\u001b[39m\u001b[39m.\u001b[39mn_jobs)\n",
      "File \u001b[1;32mc:\\Users\\Arlene\\AppData\\Local\\Programs\\Python\\Python39\\lib\\site-packages\\sklearn\\ensemble\\_forest.py:599\u001b[0m, in \u001b[0;36mBaseForest._validate_X_predict\u001b[1;34m(self, X)\u001b[0m\n\u001b[0;32m    596\u001b[0m \u001b[39m\"\"\"\u001b[39;00m\n\u001b[0;32m    597\u001b[0m \u001b[39mValidate X whenever one tries to predict, apply, predict_proba.\"\"\"\u001b[39;00m\n\u001b[0;32m    598\u001b[0m check_is_fitted(\u001b[39mself\u001b[39m)\n\u001b[1;32m--> 599\u001b[0m X \u001b[39m=\u001b[39m \u001b[39mself\u001b[39;49m\u001b[39m.\u001b[39;49m_validate_data(X, dtype\u001b[39m=\u001b[39;49mDTYPE, accept_sparse\u001b[39m=\u001b[39;49m\u001b[39m\"\u001b[39;49m\u001b[39mcsr\u001b[39;49m\u001b[39m\"\u001b[39;49m, reset\u001b[39m=\u001b[39;49m\u001b[39mFalse\u001b[39;49;00m)\n\u001b[0;32m    600\u001b[0m \u001b[39mif\u001b[39;00m issparse(X) \u001b[39mand\u001b[39;00m (X\u001b[39m.\u001b[39mindices\u001b[39m.\u001b[39mdtype \u001b[39m!=\u001b[39m np\u001b[39m.\u001b[39mintc \u001b[39mor\u001b[39;00m X\u001b[39m.\u001b[39mindptr\u001b[39m.\u001b[39mdtype \u001b[39m!=\u001b[39m np\u001b[39m.\u001b[39mintc):\n\u001b[0;32m    601\u001b[0m     \u001b[39mraise\u001b[39;00m \u001b[39mValueError\u001b[39;00m(\u001b[39m\"\u001b[39m\u001b[39mNo support for np.int64 index based sparse matrices\u001b[39m\u001b[39m\"\u001b[39m)\n",
      "File \u001b[1;32mc:\\Users\\Arlene\\AppData\\Local\\Programs\\Python\\Python39\\lib\\site-packages\\sklearn\\base.py:580\u001b[0m, in \u001b[0;36mBaseEstimator._validate_data\u001b[1;34m(self, X, y, reset, validate_separately, cast_to_ndarray, **check_params)\u001b[0m\n\u001b[0;32m    509\u001b[0m \u001b[39mdef\u001b[39;00m \u001b[39m_validate_data\u001b[39m(\n\u001b[0;32m    510\u001b[0m     \u001b[39mself\u001b[39m,\n\u001b[0;32m    511\u001b[0m     X\u001b[39m=\u001b[39m\u001b[39m\"\u001b[39m\u001b[39mno_validation\u001b[39m\u001b[39m\"\u001b[39m,\n\u001b[1;32m   (...)\u001b[0m\n\u001b[0;32m    516\u001b[0m     \u001b[39m*\u001b[39m\u001b[39m*\u001b[39mcheck_params,\n\u001b[0;32m    517\u001b[0m ):\n\u001b[0;32m    518\u001b[0m     \u001b[39m\"\"\"Validate input data and set or check the `n_features_in_` attribute.\u001b[39;00m\n\u001b[0;32m    519\u001b[0m \n\u001b[0;32m    520\u001b[0m \u001b[39m    Parameters\u001b[39;00m\n\u001b[1;32m   (...)\u001b[0m\n\u001b[0;32m    578\u001b[0m \u001b[39m        validated.\u001b[39;00m\n\u001b[0;32m    579\u001b[0m \u001b[39m    \"\"\"\u001b[39;00m\n\u001b[1;32m--> 580\u001b[0m     \u001b[39mself\u001b[39;49m\u001b[39m.\u001b[39;49m_check_feature_names(X, reset\u001b[39m=\u001b[39;49mreset)\n\u001b[0;32m    582\u001b[0m     \u001b[39mif\u001b[39;00m y \u001b[39mis\u001b[39;00m \u001b[39mNone\u001b[39;00m \u001b[39mand\u001b[39;00m \u001b[39mself\u001b[39m\u001b[39m.\u001b[39m_get_tags()[\u001b[39m\"\u001b[39m\u001b[39mrequires_y\u001b[39m\u001b[39m\"\u001b[39m]:\n\u001b[0;32m    583\u001b[0m         \u001b[39mraise\u001b[39;00m \u001b[39mValueError\u001b[39;00m(\n\u001b[0;32m    584\u001b[0m             \u001b[39mf\u001b[39m\u001b[39m\"\u001b[39m\u001b[39mThis \u001b[39m\u001b[39m{\u001b[39;00m\u001b[39mself\u001b[39m\u001b[39m.\u001b[39m\u001b[39m__class__\u001b[39m\u001b[39m.\u001b[39m\u001b[39m__name__\u001b[39m\u001b[39m}\u001b[39;00m\u001b[39m estimator \u001b[39m\u001b[39m\"\u001b[39m\n\u001b[0;32m    585\u001b[0m             \u001b[39m\"\u001b[39m\u001b[39mrequires y to be passed, but the target y is None.\u001b[39m\u001b[39m\"\u001b[39m\n\u001b[0;32m    586\u001b[0m         )\n",
      "File \u001b[1;32mc:\\Users\\Arlene\\AppData\\Local\\Programs\\Python\\Python39\\lib\\site-packages\\sklearn\\base.py:507\u001b[0m, in \u001b[0;36mBaseEstimator._check_feature_names\u001b[1;34m(self, X, reset)\u001b[0m\n\u001b[0;32m    502\u001b[0m \u001b[39mif\u001b[39;00m \u001b[39mnot\u001b[39;00m missing_names \u001b[39mand\u001b[39;00m \u001b[39mnot\u001b[39;00m unexpected_names:\n\u001b[0;32m    503\u001b[0m     message \u001b[39m+\u001b[39m\u001b[39m=\u001b[39m (\n\u001b[0;32m    504\u001b[0m         \u001b[39m\"\u001b[39m\u001b[39mFeature names must be in the same order as they were in fit.\u001b[39m\u001b[39m\\n\u001b[39;00m\u001b[39m\"\u001b[39m\n\u001b[0;32m    505\u001b[0m     )\n\u001b[1;32m--> 507\u001b[0m \u001b[39mraise\u001b[39;00m \u001b[39mValueError\u001b[39;00m(message)\n",
      "\u001b[1;31mValueError\u001b[0m: The feature names should match those that were passed during fit.\nFeature names unseen at fit time:\n- newfeature_2018_2017\n- newfeature_2019_2018\n- newfeature_2020_2019\n- newfeature_2021_2020\n- newfeature_2022_2021\nFeature names seen at fit time, yet now missing:\n- cit_2017\n- cit_2018\n- cit_2019\n- cit_2020\n- cit_2021\n- ...\n"
     ]
    }
   ],
   "source": [
    "n_estimators = 300\n",
    "\n",
    "# Initialize the Random Forest classifier\n",
    "rf_classifier_new_features = RandomForestClassifier(n_estimators=n_estimators,random_state=20)\n",
    "\n",
    "# Train the model\n",
    "rf_classifier_new_features.fit(X_train, y_train)\n",
    "\n",
    "# Make predictions on the test set\n",
    "y_pred = rf_classifier.predict(X_test)"
   ]
  },
  {
   "cell_type": "markdown",
   "metadata": {},
   "source": [
    "##### Evaluate the model"
   ]
  },
  {
   "cell_type": "code",
   "execution_count": null,
   "metadata": {},
   "outputs": [
    {
     "name": "stdout",
     "output_type": "stream",
     "text": [
      "Accuracy: 1.0\n",
      "Classification Report:\n",
      "              precision    recall  f1-score   support\n",
      "\n",
      "        High       1.00      1.00      1.00         3\n",
      "         Low       1.00      1.00      1.00        14\n",
      "      Medium       1.00      1.00      1.00         3\n",
      "\n",
      "    accuracy                           1.00        20\n",
      "   macro avg       1.00      1.00      1.00        20\n",
      "weighted avg       1.00      1.00      1.00        20\n",
      "\n"
     ]
    }
   ],
   "source": [
    "accuracy = accuracy_score(y_test, y_pred)\n",
    "print(f'Accuracy: {accuracy}')\n",
    "print('Classification Report:')\n",
    "print(classification_report(y_test, y_pred))"
   ]
  },
  {
   "cell_type": "markdown",
   "metadata": {},
   "source": [
    "##### Display feature importance for the model with new features"
   ]
  },
  {
   "cell_type": "code",
   "execution_count": null,
   "metadata": {},
   "outputs": [
    {
     "data": {
      "image/png": "[encoded data removed]",
      "text/plain": [
       "<Figure size 1200x600 with 1 Axes>"
      ]
     },
     "metadata": {},
     "output_type": "display_data"
    }
   ],
   "source": [
    "feature_importances_new = rf_classifier_new_features.feature_importances_\n",
    "sorted_indices_new = np.argsort(feature_importances_new)[::-1]\n",
    "\n",
    "# Plot feature importance for the model with new features\n",
    "plt.figure(figsize=(12, 6))\n",
    "plt.bar(range(X.shape[1]), feature_importances_new[sorted_indices_new], align=\"center\")\n",
    "plt.xticks(range(X.shape[1]), X.columns[sorted_indices_new], rotation=90)\n",
    "plt.xlabel(\"Feature\")\n",
    "plt.ylabel(\"Feature Importance\")\n",
    "plt.title(\"Random Forest Classifier - Feature Importance (New Features)\")\n",
    "plt.show()"
   ]
  }
 ],
 "metadata": {
  "kernelspec": {
   "display_name": "Python 3",
   "language": "python",
   "name": "python3"
  },
  "language_info": {
   "codemirror_mode": {
    "name": "ipython",
    "version": 3
   },
   "file_extension": ".py",
   "mimetype": "text/x-python",
   "name": "python",
   "nbconvert_exporter": "python",
   "pygments_lexer": "ipython3",
   "version": "3.9.10"
  }
 },
 "nbformat": 4,
 "nbformat_minor": 2
}
